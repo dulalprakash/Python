{
 "cells": [
  {
   "cell_type": "markdown",
   "id": "a2957ce4-c1d5-416a-852a-7f35f7fa17a3",
   "metadata": {},
   "source": [
    "## Veriables"
   ]
  },
  {
   "cell_type": "code",
   "execution_count": 1,
   "id": "c19c27ae-07c3-4f1c-827b-9d174da53791",
   "metadata": {},
   "outputs": [],
   "source": [
    "a = 10"
   ]
  },
  {
   "cell_type": "code",
   "execution_count": 2,
   "id": "abe49b83-14fb-4a3c-b2a3-2de52e572821",
   "metadata": {},
   "outputs": [
    {
     "name": "stdout",
     "output_type": "stream",
     "text": [
      "10\n"
     ]
    }
   ],
   "source": [
    "print(a)"
   ]
  },
  {
   "cell_type": "code",
   "execution_count": 3,
   "id": "ca91db6b-326f-4dc3-aea4-65bf7f6a8601",
   "metadata": {},
   "outputs": [],
   "source": [
    "student = \"Sharla Khan\""
   ]
  },
  {
   "cell_type": "code",
   "execution_count": 4,
   "id": "d66d55dd-7e89-4acf-b872-003ec76e4ec2",
   "metadata": {},
   "outputs": [
    {
     "name": "stdout",
     "output_type": "stream",
     "text": [
      "Sharla Khan\n"
     ]
    }
   ],
   "source": [
    "print(student)"
   ]
  },
  {
   "cell_type": "code",
   "execution_count": 5,
   "id": "d35fc15c-39e7-4f78-848e-7f486976ab03",
   "metadata": {},
   "outputs": [
    {
     "name": "stdout",
     "output_type": "stream",
     "text": [
      "Hello\n"
     ]
    }
   ],
   "source": [
    "print(\"Hello\")"
   ]
  },
  {
   "cell_type": "code",
   "execution_count": 6,
   "id": "ba14e608-2f43-4d44-bc15-72f6f706b718",
   "metadata": {},
   "outputs": [
    {
     "name": "stdout",
     "output_type": "stream",
     "text": [
      " Kamha\n"
     ]
    }
   ],
   "source": [
    "a_ = \" Kamha\"\n",
    "print(a_)"
   ]
  },
  {
   "cell_type": "code",
   "execution_count": 7,
   "id": "19ad85ba-6e2e-48f9-ab08-3f0e8980ce28",
   "metadata": {},
   "outputs": [],
   "source": [
    "my_name = \"padma\""
   ]
  },
  {
   "cell_type": "code",
   "execution_count": 8,
   "id": "47f7f6a0-7d2f-46ac-9859-6d5482f73f62",
   "metadata": {},
   "outputs": [
    {
     "name": "stdout",
     "output_type": "stream",
     "text": [
      "padma\n"
     ]
    }
   ],
   "source": [
    "print(my_name)"
   ]
  },
  {
   "cell_type": "code",
   "execution_count": 9,
   "id": "ef5c2064-b7dc-4bb2-b039-aa8e88e43d47",
   "metadata": {},
   "outputs": [],
   "source": [
    "course = \"data Science\""
   ]
  },
  {
   "cell_type": "code",
   "execution_count": 10,
   "id": "ccd36285-7611-4649-8357-0b1b7d9246f8",
   "metadata": {},
   "outputs": [
    {
     "name": "stdout",
     "output_type": "stream",
     "text": [
      "data Science\n"
     ]
    }
   ],
   "source": [
    "print(course)"
   ]
  },
  {
   "cell_type": "code",
   "execution_count": 11,
   "id": "9337258b-f0b3-49f6-bfe4-9b053d051a8b",
   "metadata": {},
   "outputs": [
    {
     "data": {
      "text/plain": [
       "'data Science'"
      ]
     },
     "execution_count": 11,
     "metadata": {},
     "output_type": "execute_result"
    }
   ],
   "source": [
    "course"
   ]
  },
  {
   "cell_type": "code",
   "execution_count": 12,
   "id": "bc37be36-456c-4311-b5bd-f600e8dff3c7",
   "metadata": {},
   "outputs": [
    {
     "data": {
      "text/plain": [
       "'padma'"
      ]
     },
     "execution_count": 12,
     "metadata": {},
     "output_type": "execute_result"
    }
   ],
   "source": [
    "my_name"
   ]
  },
  {
   "cell_type": "code",
   "execution_count": 13,
   "id": "f28743ab-eb75-47a6-ad9f-b820be9dbeaa",
   "metadata": {},
   "outputs": [
    {
     "data": {
      "text/plain": [
       "10"
      ]
     },
     "execution_count": 13,
     "metadata": {},
     "output_type": "execute_result"
    }
   ],
   "source": [
    "a"
   ]
  },
  {
   "cell_type": "code",
   "execution_count": 14,
   "id": "98713bdf-b1d8-4006-8ba3-ba0c31aee722",
   "metadata": {},
   "outputs": [
    {
     "data": {
      "text/plain": [
       "'padma'"
      ]
     },
     "execution_count": 14,
     "metadata": {},
     "output_type": "execute_result"
    }
   ],
   "source": [
    "my_name"
   ]
  },
  {
   "cell_type": "code",
   "execution_count": 15,
   "id": "85f1e39e-b115-4763-b083-0c8f06be95d3",
   "metadata": {},
   "outputs": [
    {
     "data": {
      "text/plain": [
       "'padma'"
      ]
     },
     "execution_count": 15,
     "metadata": {},
     "output_type": "execute_result"
    }
   ],
   "source": [
    "my_name"
   ]
  },
  {
   "cell_type": "code",
   "execution_count": 16,
   "id": "2d3ed837-f6be-4e56-a03a-47bcde2836ea",
   "metadata": {},
   "outputs": [],
   "source": [
    "my_name =\"Kemaw\""
   ]
  },
  {
   "cell_type": "code",
   "execution_count": 17,
   "id": "e4c61ec3-85db-4120-8c5d-89705498f4d5",
   "metadata": {},
   "outputs": [
    {
     "data": {
      "text/plain": [
       "'Kemaw'"
      ]
     },
     "execution_count": 17,
     "metadata": {},
     "output_type": "execute_result"
    }
   ],
   "source": [
    "my_name"
   ]
  },
  {
   "cell_type": "code",
   "execution_count": 18,
   "id": "b152f8f9-916d-4ccf-bc18-da38e141aa2f",
   "metadata": {},
   "outputs": [],
   "source": [
    "My_name = \"Prakash\""
   ]
  },
  {
   "cell_type": "code",
   "execution_count": 19,
   "id": "7a6e257f-1dff-4900-8fe6-cbd9fc606ea0",
   "metadata": {},
   "outputs": [
    {
     "data": {
      "text/plain": [
       "'Prakash'"
      ]
     },
     "execution_count": 19,
     "metadata": {},
     "output_type": "execute_result"
    }
   ],
   "source": [
    "My_name"
   ]
  },
  {
   "cell_type": "code",
   "execution_count": 20,
   "id": "863f48fb-e95e-457b-9b79-3f0296d162a0",
   "metadata": {},
   "outputs": [
    {
     "data": {
      "text/plain": [
       "'Kemaw'"
      ]
     },
     "execution_count": 20,
     "metadata": {},
     "output_type": "execute_result"
    }
   ],
   "source": [
    "my_name"
   ]
  },
  {
   "cell_type": "code",
   "execution_count": 21,
   "id": "20e54786-01af-47b3-9fba-865277126ebd",
   "metadata": {},
   "outputs": [
    {
     "data": {
      "text/plain": [
       "int"
      ]
     },
     "execution_count": 21,
     "metadata": {},
     "output_type": "execute_result"
    }
   ],
   "source": [
    "type(a)"
   ]
  },
  {
   "cell_type": "code",
   "execution_count": 22,
   "id": "9e43bdde-a72b-4ec4-b81d-9e49da5c982f",
   "metadata": {},
   "outputs": [
    {
     "data": {
      "text/plain": [
       "str"
      ]
     },
     "execution_count": 22,
     "metadata": {},
     "output_type": "execute_result"
    }
   ],
   "source": [
    "type(my_name)"
   ]
  },
  {
   "cell_type": "code",
   "execution_count": 23,
   "id": "24783531-4c5a-4db1-9ad3-327e51d3a9b8",
   "metadata": {},
   "outputs": [
    {
     "name": "stdout",
     "output_type": "stream",
     "text": [
      "<class 'str'>\n"
     ]
    }
   ],
   "source": [
    "print(type(my_name))"
   ]
  },
  {
   "cell_type": "code",
   "execution_count": 24,
   "id": "7f62d4a5-3f7e-4160-9a9f-201339b5d002",
   "metadata": {},
   "outputs": [],
   "source": [
    "b =True"
   ]
  },
  {
   "cell_type": "code",
   "execution_count": 25,
   "id": "1ab8b01d-1508-4846-ace0-85f6269458c5",
   "metadata": {},
   "outputs": [
    {
     "data": {
      "text/plain": [
       "bool"
      ]
     },
     "execution_count": 25,
     "metadata": {},
     "output_type": "execute_result"
    }
   ],
   "source": [
    "bool"
   ]
  },
  {
   "cell_type": "code",
   "execution_count": 26,
   "id": "0f07d786-7817-4030-8abf-2939763a2fd4",
   "metadata": {},
   "outputs": [
    {
     "data": {
      "text/plain": [
       "bool"
      ]
     },
     "execution_count": 26,
     "metadata": {},
     "output_type": "execute_result"
    }
   ],
   "source": [
    "type(b)"
   ]
  },
  {
   "cell_type": "code",
   "execution_count": 27,
   "id": "9cabcc2b-9a1d-4757-9486-a7923195bfbb",
   "metadata": {},
   "outputs": [
    {
     "name": "stdout",
     "output_type": "stream",
     "text": [
      "<class 'bool'>\n"
     ]
    }
   ],
   "source": [
    "print(type(b))"
   ]
  },
  {
   "cell_type": "code",
   "execution_count": 28,
   "id": "07a5dd9b-4b74-4e6e-ba60-df7794d3414a",
   "metadata": {},
   "outputs": [],
   "source": [
    "c = False"
   ]
  },
  {
   "cell_type": "code",
   "execution_count": 29,
   "id": "4214e266-22e1-468c-959f-653c9d28352d",
   "metadata": {},
   "outputs": [
    {
     "name": "stdout",
     "output_type": "stream",
     "text": [
      "<class 'bool'>\n"
     ]
    }
   ],
   "source": [
    "print(type(c))"
   ]
  },
  {
   "cell_type": "raw",
   "id": "4f6d540e-8104-43cf-810d-d01f185f5912",
   "metadata": {},
   "source": [
    "True + True = 2"
   ]
  },
  {
   "cell_type": "code",
   "execution_count": 30,
   "id": "575797ff-e165-46d0-8910-6239bdbe8be6",
   "metadata": {},
   "outputs": [
    {
     "data": {
      "text/plain": [
       "2"
      ]
     },
     "execution_count": 30,
     "metadata": {},
     "output_type": "execute_result"
    }
   ],
   "source": [
    "True + True"
   ]
  },
  {
   "cell_type": "raw",
   "id": "28e56252-1e93-4cc4-a03f-bf63082aee80",
   "metadata": {},
   "source": [
    "Fasle = 0"
   ]
  },
  {
   "cell_type": "code",
   "execution_count": 31,
   "id": "c33edd4f-8de3-4c09-a449-35f0b451de74",
   "metadata": {},
   "outputs": [
    {
     "data": {
      "text/plain": [
       "1"
      ]
     },
     "execution_count": 31,
     "metadata": {},
     "output_type": "execute_result"
    }
   ],
   "source": [
    "True + False "
   ]
  },
  {
   "cell_type": "code",
   "execution_count": 32,
   "id": "6723023b-bd08-4535-b99d-cdcffd80da47",
   "metadata": {},
   "outputs": [],
   "source": [
    "d = 10.35"
   ]
  },
  {
   "cell_type": "code",
   "execution_count": 33,
   "id": "2ebd298a-becf-4934-80de-002cfcdbf5d5",
   "metadata": {},
   "outputs": [
    {
     "data": {
      "text/plain": [
       "float"
      ]
     },
     "execution_count": 33,
     "metadata": {},
     "output_type": "execute_result"
    }
   ],
   "source": [
    "type(d)"
   ]
  },
  {
   "cell_type": "code",
   "execution_count": 34,
   "id": "0c7b3c71-6d2e-4faf-a730-e11bfe9c26f1",
   "metadata": {},
   "outputs": [],
   "source": [
    "e = 10 +3j"
   ]
  },
  {
   "cell_type": "code",
   "execution_count": 35,
   "id": "8b2dce8e-33bc-435e-b344-f7d36bec5e6f",
   "metadata": {},
   "outputs": [
    {
     "data": {
      "text/plain": [
       "complex"
      ]
     },
     "execution_count": 35,
     "metadata": {},
     "output_type": "execute_result"
    }
   ],
   "source": [
    "type(e)"
   ]
  },
  {
   "cell_type": "code",
   "execution_count": null,
   "id": "67056b18-3820-4bad-a036-d209004f1f61",
   "metadata": {},
   "outputs": [],
   "source": []
  },
  {
   "cell_type": "markdown",
   "id": "0f830c6b-8965-427a-a501-f9c653dcdf11",
   "metadata": {},
   "source": [
    "## Strings in Deep"
   ]
  },
  {
   "cell_type": "code",
   "execution_count": 36,
   "id": "ca83ed1c-976b-4be7-a3ef-57e671550433",
   "metadata": {},
   "outputs": [],
   "source": [
    "student = \"katy\""
   ]
  },
  {
   "cell_type": "code",
   "execution_count": 37,
   "id": "d6642254-9f3e-48d9-bd2b-2e7019a546c1",
   "metadata": {},
   "outputs": [],
   "source": [
    "Student = 'Prakash'"
   ]
  },
  {
   "cell_type": "code",
   "execution_count": 38,
   "id": "c171c0ff-df2b-4175-9646-cee8ed8e0872",
   "metadata": {},
   "outputs": [
    {
     "data": {
      "text/plain": [
       "str"
      ]
     },
     "execution_count": 38,
     "metadata": {},
     "output_type": "execute_result"
    }
   ],
   "source": [
    "type(student)"
   ]
  },
  {
   "cell_type": "code",
   "execution_count": 39,
   "id": "c25b22c6-fffe-410e-a3c6-c3e6910a1b28",
   "metadata": {},
   "outputs": [
    {
     "data": {
      "text/plain": [
       "str"
      ]
     },
     "execution_count": 39,
     "metadata": {},
     "output_type": "execute_result"
    }
   ],
   "source": [
    "type(Student)"
   ]
  },
  {
   "cell_type": "code",
   "execution_count": 40,
   "id": "4d334bdb-0496-4b5e-b099-ade8ae286a36",
   "metadata": {},
   "outputs": [
    {
     "data": {
      "text/plain": [
       "'KATY'"
      ]
     },
     "execution_count": 40,
     "metadata": {},
     "output_type": "execute_result"
    }
   ],
   "source": [
    "student.upper()"
   ]
  },
  {
   "cell_type": "code",
   "execution_count": 41,
   "id": "d88577d8-2c76-4d21-a6c3-72df2eb16b23",
   "metadata": {},
   "outputs": [
    {
     "data": {
      "text/plain": [
       "'PRAKASH'"
      ]
     },
     "execution_count": 41,
     "metadata": {},
     "output_type": "execute_result"
    }
   ],
   "source": [
    "Student.upper()"
   ]
  },
  {
   "cell_type": "code",
   "execution_count": 42,
   "id": "93272e3b-7d35-4d47-b1af-a43fff2b1ffc",
   "metadata": {
    "scrolled": true
   },
   "outputs": [
    {
     "ename": "SyntaxError",
     "evalue": "invalid syntax (3910178534.py, line 1)",
     "output_type": "error",
     "traceback": [
      "\u001b[0;36m  Cell \u001b[0;32mIn[42], line 1\u001b[0;36m\u001b[0m\n\u001b[0;31m    paragraph = \"\"\"Dr. Kumar Muthuraman received his Ph.D. from Stanford University. His research focuses on decision making under uncertainty. Application areas of interest to him are quantitative finance, operations management and health care. He received the Chevron Centennial Fellowship in Business award in 2010\"\"\".\u001b[0m\n\u001b[0m                                                                                                                                                                                                                                                                                                                                 ^\u001b[0m\n\u001b[0;31mSyntaxError\u001b[0m\u001b[0;31m:\u001b[0m invalid syntax\n"
     ]
    }
   ],
   "source": [
    "paragraph = \"\"\"Dr. Kumar Muthuraman received his Ph.D. from Stanford University. His research focuses on decision making under uncertainty. Application areas of interest to him are quantitative finance, operations management and health care. He received the Chevron Centennial Fellowship in Business award in 2010\"\"\"."
   ]
  },
  {
   "cell_type": "code",
   "execution_count": null,
   "id": "9df2a874-940f-4296-9315-4ca4af851218",
   "metadata": {},
   "outputs": [],
   "source": [
    "paragraph = \"\"\"Dr. Kumar Muthuraman received his Ph.D. from Stanford University. His research focuses on decision making under uncertainty. Application areas of interest to him are quantitative finance, operations management and health care. He received the Chevron Centennial Fellowship in Business award in 2010.\"\"\""
   ]
  },
  {
   "cell_type": "code",
   "execution_count": null,
   "id": "1f547144-8073-4db1-8dfe-dae78b77d70d",
   "metadata": {},
   "outputs": [],
   "source": [
    "paragraph"
   ]
  },
  {
   "cell_type": "code",
   "execution_count": null,
   "id": "5df48f29-a360-44a3-b6ea-43118179ee0a",
   "metadata": {},
   "outputs": [],
   "source": [
    "paragraph.upper()"
   ]
  },
  {
   "cell_type": "code",
   "execution_count": null,
   "id": "32c35b56-e5b8-4716-b9e8-fc3aebf2cfb7",
   "metadata": {},
   "outputs": [],
   "source": [
    "S = \"This is my first Python class\""
   ]
  },
  {
   "cell_type": "code",
   "execution_count": null,
   "id": "5bcedf5a-4835-4a36-8772-19f02d956895",
   "metadata": {},
   "outputs": [],
   "source": [
    "S.count(\"T\")"
   ]
  },
  {
   "cell_type": "code",
   "execution_count": null,
   "id": "5dfee33d-f5ca-4aed-9fd7-fa623ef1bb91",
   "metadata": {},
   "outputs": [],
   "source": [
    "S.count(\"s\")"
   ]
  },
  {
   "cell_type": "code",
   "execution_count": null,
   "id": "e9237c94-06d6-4a9d-9c75-2331bb466fe8",
   "metadata": {},
   "outputs": [],
   "source": [
    "S"
   ]
  },
  {
   "cell_type": "code",
   "execution_count": null,
   "id": "85e18524-fb60-46ae-9fb8-982e34a0d840",
   "metadata": {},
   "outputs": [],
   "source": [
    "S.islower()"
   ]
  },
  {
   "cell_type": "code",
   "execution_count": null,
   "id": "d1509ddc-a62b-4c02-8c1f-16120f00ae42",
   "metadata": {},
   "outputs": [],
   "source": [
    "S.isupper()"
   ]
  },
  {
   "cell_type": "code",
   "execution_count": null,
   "id": "c8472c18-3cdf-43f3-bfd9-d1bbf5058b80",
   "metadata": {},
   "outputs": [],
   "source": [
    "S.upper()"
   ]
  },
  {
   "cell_type": "code",
   "execution_count": null,
   "id": "d244f932-c0f2-4d2b-8eee-479fcaaea90a",
   "metadata": {},
   "outputs": [],
   "source": [
    "S.isupper()"
   ]
  },
  {
   "cell_type": "code",
   "execution_count": null,
   "id": "b6aef2a1-6a8e-42ff-8502-adf0f6ca413b",
   "metadata": {},
   "outputs": [],
   "source": [
    "S = S.upper()"
   ]
  },
  {
   "cell_type": "code",
   "execution_count": null,
   "id": "b30585d3-9d6c-4859-a8d4-e90762f31a6c",
   "metadata": {},
   "outputs": [],
   "source": [
    "S.isupper()"
   ]
  },
  {
   "cell_type": "code",
   "execution_count": null,
   "id": "4bad02db-5c10-4c32-9a63-ff787a3a8c2a",
   "metadata": {},
   "outputs": [],
   "source": [
    "a1 = 100"
   ]
  },
  {
   "cell_type": "code",
   "execution_count": null,
   "id": "dcce34ae-5b2d-4e30-a415-2372413fb62b",
   "metadata": {},
   "outputs": [],
   "source": [
    "print(a1)"
   ]
  },
  {
   "cell_type": "code",
   "execution_count": null,
   "id": "dbe5de33-7e3e-4c08-a950-bcc76bef7980",
   "metadata": {},
   "outputs": [],
   "source": [
    "s2 = \"python\""
   ]
  },
  {
   "cell_type": "code",
   "execution_count": null,
   "id": "143144ae-688e-4b6d-af2d-65fef27ce68a",
   "metadata": {},
   "outputs": [],
   "source": [
    "s2.isalpha()"
   ]
  },
  {
   "cell_type": "code",
   "execution_count": null,
   "id": "04d98220-9a71-497c-96c9-d37231b3874a",
   "metadata": {},
   "outputs": [],
   "source": [
    "s3 = \"python class\""
   ]
  },
  {
   "cell_type": "code",
   "execution_count": null,
   "id": "20db51e7-c4bb-4973-91a3-46ff6b68f4d4",
   "metadata": {},
   "outputs": [],
   "source": [
    "s3.isalpha()"
   ]
  },
  {
   "cell_type": "code",
   "execution_count": null,
   "id": "0fe50585-f477-405e-9021-1b203a31ab76",
   "metadata": {},
   "outputs": [],
   "source": [
    "s = \"Datascience\""
   ]
  },
  {
   "cell_type": "code",
   "execution_count": null,
   "id": "e31e167a-ffe8-40b5-b4fc-8953fb228385",
   "metadata": {},
   "outputs": [],
   "source": [
    "type(s)"
   ]
  },
  {
   "cell_type": "code",
   "execution_count": null,
   "id": "c391c4cc-3257-4232-a6f8-4894839180d3",
   "metadata": {},
   "outputs": [],
   "source": [
    "print(s+\"3\")"
   ]
  },
  {
   "cell_type": "code",
   "execution_count": null,
   "id": "e15fc2bc-d7fb-4f2e-8a66-6bfbaed95839",
   "metadata": {},
   "outputs": [],
   "source": [
    "print(s + str(3))"
   ]
  },
  {
   "cell_type": "code",
   "execution_count": null,
   "id": "9a337b9d-0372-4348-b16c-46ab2dc9d929",
   "metadata": {},
   "outputs": [],
   "source": [
    "student = \"Chakresh\""
   ]
  },
  {
   "cell_type": "code",
   "execution_count": null,
   "id": "bb24f709-319f-451a-8ad3-b79681b1813f",
   "metadata": {},
   "outputs": [],
   "source": [
    "print(student)"
   ]
  },
  {
   "cell_type": "code",
   "execution_count": null,
   "id": "91aeabf1-9e1b-4bb9-a859-0895ca4f44c5",
   "metadata": {},
   "outputs": [],
   "source": [
    "type(student)"
   ]
  },
  {
   "cell_type": "code",
   "execution_count": null,
   "id": "642c5373-2bcb-4180-a4fd-009a3fb81a84",
   "metadata": {},
   "outputs": [],
   "source": [
    "b = \"kriti \" * 5"
   ]
  },
  {
   "cell_type": "code",
   "execution_count": null,
   "id": "35058292-5624-4182-80eb-1683e13243c6",
   "metadata": {},
   "outputs": [],
   "source": [
    "print(b)"
   ]
  },
  {
   "cell_type": "code",
   "execution_count": null,
   "id": "954f270b-ff23-4cf9-959a-898a22b5e2dd",
   "metadata": {},
   "outputs": [],
   "source": [
    "s = \"Learning\""
   ]
  },
  {
   "cell_type": "code",
   "execution_count": null,
   "id": "f2a730d2-55e3-4277-80b4-7b2b9ffb7bd6",
   "metadata": {},
   "outputs": [],
   "source": [
    "type(s)"
   ]
  },
  {
   "cell_type": "code",
   "execution_count": null,
   "id": "fcdcc4ba-cfb5-47cf-b40a-62996fe32d01",
   "metadata": {},
   "outputs": [],
   "source": [
    "s = \"Learning \" * 10"
   ]
  },
  {
   "cell_type": "code",
   "execution_count": null,
   "id": "e7a264e2-f1f4-4b82-b486-a0d89a60371f",
   "metadata": {},
   "outputs": [],
   "source": [
    "print(s)"
   ]
  },
  {
   "cell_type": "code",
   "execution_count": null,
   "id": "b78ba1da-ae37-48cf-a105-952fde9c8444",
   "metadata": {},
   "outputs": [],
   "source": [
    "s = (\"21234 \" * 3) + s + (\" python\" * 3)"
   ]
  },
  {
   "cell_type": "code",
   "execution_count": null,
   "id": "2f3ed9a6-551d-4f68-8de5-1f509e28f5db",
   "metadata": {},
   "outputs": [],
   "source": [
    "type(s)"
   ]
  },
  {
   "cell_type": "code",
   "execution_count": null,
   "id": "5ecaf388-04e6-41b2-a6c6-aa51ba376fed",
   "metadata": {},
   "outputs": [],
   "source": [
    "print(s)"
   ]
  },
  {
   "cell_type": "code",
   "execution_count": null,
   "id": "8e245d34-1300-4dae-bb5b-771be19d92c3",
   "metadata": {},
   "outputs": [],
   "source": [
    "s = (\"2124\") + (\" python\")"
   ]
  },
  {
   "cell_type": "code",
   "execution_count": null,
   "id": "58f08716-16d9-4257-9842-ce33e6942d03",
   "metadata": {},
   "outputs": [],
   "source": [
    "print(s)"
   ]
  },
  {
   "cell_type": "code",
   "execution_count": null,
   "id": "af358c7b-8300-4c68-8e70-4fde1c607c8e",
   "metadata": {},
   "outputs": [],
   "source": [
    "s = \"Kemav\""
   ]
  },
  {
   "cell_type": "code",
   "execution_count": null,
   "id": "3fb1e801-3f1d-4adf-83ac-899a5a6eae32",
   "metadata": {},
   "outputs": [],
   "source": [
    "type(s)"
   ]
  },
  {
   "cell_type": "code",
   "execution_count": null,
   "id": "ddce9343-a486-4f89-a373-e22db356e1bc",
   "metadata": {},
   "outputs": [],
   "source": [
    "len(s)"
   ]
  },
  {
   "cell_type": "code",
   "execution_count": null,
   "id": "fffab4a3-bad3-4493-8378-06eca519b203",
   "metadata": {},
   "outputs": [],
   "source": [
    "print(s [0])"
   ]
  },
  {
   "cell_type": "code",
   "execution_count": null,
   "id": "b4d019da-ad2d-479e-bdc5-c5ec4bd36651",
   "metadata": {},
   "outputs": [],
   "source": [
    "print( s[-1])"
   ]
  },
  {
   "cell_type": "code",
   "execution_count": null,
   "id": "094b13ab-02cb-4482-9c1a-c27af077f25d",
   "metadata": {},
   "outputs": [],
   "source": [
    "print(s[3])"
   ]
  },
  {
   "cell_type": "code",
   "execution_count": null,
   "id": "4f7871e3-f27e-4068-8601-937a9683a3b3",
   "metadata": {},
   "outputs": [],
   "source": [
    "s + \"we are learning python\""
   ]
  },
  {
   "cell_type": "code",
   "execution_count": null,
   "id": "129dd233-a331-4ae8-a9be-df79ed091ccb",
   "metadata": {},
   "outputs": [],
   "source": [
    "s = \"we are learning python\""
   ]
  },
  {
   "cell_type": "code",
   "execution_count": null,
   "id": "1fe45ef0-2e09-4b9b-8d4b-760acd680966",
   "metadata": {},
   "outputs": [],
   "source": [
    "print(s[12])"
   ]
  },
  {
   "cell_type": "code",
   "execution_count": null,
   "id": "351e6267-c3a1-4467-bd2a-0e539506a50f",
   "metadata": {},
   "outputs": [],
   "source": [
    "print(s[10])"
   ]
  },
  {
   "cell_type": "code",
   "execution_count": null,
   "id": "4619ebb6-5111-401c-803f-82dce7d95045",
   "metadata": {},
   "outputs": [],
   "source": [
    "print(s[15])"
   ]
  },
  {
   "cell_type": "code",
   "execution_count": null,
   "id": "08a030a6-8196-4bc3-94b6-6f3af3baa576",
   "metadata": {},
   "outputs": [],
   "source": [
    "print(s[20])"
   ]
  },
  {
   "cell_type": "code",
   "execution_count": null,
   "id": "e449b485-605a-4e47-acfd-8f28b5b78289",
   "metadata": {},
   "outputs": [],
   "source": [
    "print(s[-2])"
   ]
  },
  {
   "cell_type": "code",
   "execution_count": null,
   "id": "89a57f6c-3f2e-4654-b7a2-4748617d128c",
   "metadata": {},
   "outputs": [],
   "source": [
    "s2 = \"this is my first programming class's\""
   ]
  },
  {
   "cell_type": "code",
   "execution_count": null,
   "id": "7b79f51d-5e68-4425-87cd-8dc9040f56d8",
   "metadata": {},
   "outputs": [],
   "source": [
    "print(len(s2))"
   ]
  },
  {
   "cell_type": "code",
   "execution_count": null,
   "id": "3248c344-11cd-460b-babe-2980d827dfc4",
   "metadata": {},
   "outputs": [],
   "source": [
    "print(s2[-10])"
   ]
  },
  {
   "cell_type": "code",
   "execution_count": null,
   "id": "42cd225c-c1e5-4372-a582-bbae24839b9e",
   "metadata": {},
   "outputs": [],
   "source": [
    "s2"
   ]
  },
  {
   "cell_type": "code",
   "execution_count": null,
   "id": "a4ba40c1-c38e-4fa3-ac66-5630c7ea2f2b",
   "metadata": {},
   "outputs": [],
   "source": [
    "print(s2[1:5])"
   ]
  },
  {
   "cell_type": "code",
   "execution_count": null,
   "id": "4f8de60c-fbb6-4c15-861a-022bab2147ee",
   "metadata": {},
   "outputs": [],
   "source": [
    "print(s2[6:30])"
   ]
  },
  {
   "cell_type": "code",
   "execution_count": null,
   "id": "b2208297-f1a5-44a7-8d54-48a3f74d0b67",
   "metadata": {},
   "outputs": [],
   "source": [
    "print(s2[6:30:2])"
   ]
  },
  {
   "cell_type": "code",
   "execution_count": null,
   "id": "05628923-a282-4c95-bb4c-6b63a4e403e9",
   "metadata": {},
   "outputs": [],
   "source": [
    "print(s2[1:10:2])"
   ]
  },
  {
   "cell_type": "code",
   "execution_count": null,
   "id": "87934d14-b123-4502-a671-fdabb92cd7fc",
   "metadata": {},
   "outputs": [],
   "source": [
    "s2"
   ]
  },
  {
   "cell_type": "code",
   "execution_count": null,
   "id": "be7aeb6f-429e-4822-af4f-ecb2cf2d2c6d",
   "metadata": {},
   "outputs": [],
   "source": [
    "print(s2[6:10:2])"
   ]
  },
  {
   "cell_type": "code",
   "execution_count": null,
   "id": "f836c94a-b98b-4852-86a5-ec0870bfbc67",
   "metadata": {},
   "outputs": [],
   "source": [
    "s = \"learning datascience\""
   ]
  },
  {
   "cell_type": "code",
   "execution_count": null,
   "id": "0ea598e2-72b9-40ef-80b6-911f86657052",
   "metadata": {},
   "outputs": [],
   "source": [
    "type(s)"
   ]
  },
  {
   "cell_type": "code",
   "execution_count": null,
   "id": "ee2bac1e-8c54-4c4f-9fe0-112f4175ae7f",
   "metadata": {},
   "outputs": [],
   "source": [
    "print(s[0:9:1])"
   ]
  },
  {
   "cell_type": "code",
   "execution_count": null,
   "id": "9df54771-7f2f-412a-857f-f2e328891cc1",
   "metadata": {},
   "outputs": [],
   "source": [
    "s"
   ]
  },
  {
   "cell_type": "code",
   "execution_count": null,
   "id": "f5c0aa27-5779-465a-8f39-261c9ca787de",
   "metadata": {},
   "outputs": [],
   "source": [
    "print(s[0:8:-1])"
   ]
  },
  {
   "cell_type": "code",
   "execution_count": null,
   "id": "dab4c26b-855c-4b82-a9f3-b6427ed5429f",
   "metadata": {},
   "outputs": [],
   "source": [
    "print(s[0:8:1])"
   ]
  },
  {
   "cell_type": "code",
   "execution_count": null,
   "id": "1447388f-8d45-488f-a43d-d6fb0ec8bf42",
   "metadata": {},
   "outputs": [],
   "source": [
    "print(s[0:8:-1])"
   ]
  },
  {
   "cell_type": "code",
   "execution_count": null,
   "id": "2bf37fc5-d334-4e5c-9af2-9566365c0e93",
   "metadata": {},
   "outputs": [],
   "source": [
    "s[50:0:-2]"
   ]
  },
  {
   "cell_type": "code",
   "execution_count": null,
   "id": "959dca58-1b9e-400d-9c80-452f34fbe3dc",
   "metadata": {},
   "outputs": [],
   "source": [
    "s = \"Learning Datascience in Amend\""
   ]
  },
  {
   "cell_type": "code",
   "execution_count": null,
   "id": "be0f566b-351f-42c5-9371-1fc95eb20c09",
   "metadata": {},
   "outputs": [],
   "source": [
    "len(s)"
   ]
  },
  {
   "cell_type": "code",
   "execution_count": null,
   "id": "5920d7f6-a157-4256-860d-79580018ecd1",
   "metadata": {},
   "outputs": [],
   "source": [
    "s[::-1]"
   ]
  },
  {
   "cell_type": "code",
   "execution_count": null,
   "id": "2d53b225-84c7-43ea-8671-d2faf32c3c96",
   "metadata": {},
   "outputs": [],
   "source": [
    "s[-2:-7:1]"
   ]
  },
  {
   "cell_type": "code",
   "execution_count": null,
   "id": "98b6292b-f155-4196-a556-899be27769a7",
   "metadata": {},
   "outputs": [],
   "source": [
    "s[-7:-2:1]"
   ]
  },
  {
   "cell_type": "code",
   "execution_count": null,
   "id": "eee7660c-e0f3-4c9f-8fe4-0af49fb92584",
   "metadata": {},
   "outputs": [],
   "source": [
    "S = \"data science in amend.\""
   ]
  },
  {
   "cell_type": "code",
   "execution_count": null,
   "id": "9cdb48c8-b1ac-42e6-88ce-f39a9e9da617",
   "metadata": {},
   "outputs": [],
   "source": [
    "S"
   ]
  },
  {
   "cell_type": "code",
   "execution_count": null,
   "id": "06c49684-b0e5-4327-ac34-90a8b8686742",
   "metadata": {},
   "outputs": [],
   "source": [
    "S.title()"
   ]
  },
  {
   "cell_type": "code",
   "execution_count": null,
   "id": "7521b073-24fc-4a65-a0ce-ed5a22d77ec1",
   "metadata": {},
   "outputs": [],
   "source": [
    "s = \"Machine LearNING\""
   ]
  },
  {
   "cell_type": "code",
   "execution_count": null,
   "id": "7d297ca9-7b96-4fac-9359-f417865474a8",
   "metadata": {},
   "outputs": [],
   "source": [
    "s.swapcase()"
   ]
  },
  {
   "cell_type": "code",
   "execution_count": null,
   "id": "f01fcafa-bd14-4572-a909-d7c3b0c1ceca",
   "metadata": {},
   "outputs": [],
   "source": [
    "print(reversed(s))"
   ]
  },
  {
   "cell_type": "code",
   "execution_count": null,
   "id": "8f55d572-d153-4b57-8f26-3fa392a7f76a",
   "metadata": {},
   "outputs": [],
   "source": [
    "''.join(reversed(s))"
   ]
  },
  {
   "cell_type": "code",
   "execution_count": null,
   "id": "b7f5597b-f7e2-4e05-8bc6-fe9420436d84",
   "metadata": {},
   "outputs": [],
   "source": [
    "s[::-1]"
   ]
  },
  {
   "cell_type": "code",
   "execution_count": null,
   "id": "43d8e4b7-5454-4e86-9197-78b584af6a7e",
   "metadata": {},
   "outputs": [],
   "source": [
    "s = \"  Data  Science    \""
   ]
  },
  {
   "cell_type": "code",
   "execution_count": null,
   "id": "7f137e42-d65e-477b-b301-4fb25f597a13",
   "metadata": {},
   "outputs": [],
   "source": [
    "s.strip()"
   ]
  },
  {
   "cell_type": "code",
   "execution_count": null,
   "id": "8d2381d6-2308-44ec-9baf-8864daffa494",
   "metadata": {},
   "outputs": [],
   "source": [
    "s.strip()"
   ]
  },
  {
   "cell_type": "code",
   "execution_count": null,
   "id": "a5cba049-81ac-49c7-af0c-b477dac19b3a",
   "metadata": {},
   "outputs": [],
   "source": [
    "s.lstrip()"
   ]
  },
  {
   "cell_type": "code",
   "execution_count": null,
   "id": "1d9125e5-98ca-49fa-9f1b-7256f3017254",
   "metadata": {},
   "outputs": [],
   "source": [
    "s.rstrip()"
   ]
  },
  {
   "cell_type": "code",
   "execution_count": null,
   "id": "b0db91b6-025f-41bf-a57a-e98fabcd20be",
   "metadata": {},
   "outputs": [],
   "source": [
    "\"a\" .join(\"Machine Learning\")"
   ]
  },
  {
   "cell_type": "code",
   "execution_count": null,
   "id": "32d8300f-9a8d-4678-99cd-cabefcea4a25",
   "metadata": {},
   "outputs": [],
   "source": [
    "\"padma \" .join(\"aimnxt\")"
   ]
  },
  {
   "cell_type": "code",
   "execution_count": null,
   "id": "f3287393-c748-400c-92ba-fb844d625083",
   "metadata": {},
   "outputs": [],
   "source": [
    "s"
   ]
  },
  {
   "cell_type": "code",
   "execution_count": null,
   "id": "08d9fe71-ed1f-4eb3-90c0-80f98b5fd6c9",
   "metadata": {},
   "outputs": [],
   "source": [
    "\"padma\".join(s)"
   ]
  },
  {
   "cell_type": "code",
   "execution_count": null,
   "id": "c5f4e743-c899-4bb6-963b-ae49747d71a7",
   "metadata": {},
   "outputs": [],
   "source": [
    "\"$\".join(\"Datascience\")"
   ]
  },
  {
   "cell_type": "code",
   "execution_count": null,
   "id": "fcecdf51-225a-4343-b66b-0d2098811369",
   "metadata": {},
   "outputs": [],
   "source": [
    "s = \"aimnxt\""
   ]
  },
  {
   "cell_type": "code",
   "execution_count": null,
   "id": "f2ebbe11-5f3d-4741-bff1-560531754680",
   "metadata": {},
   "outputs": [],
   "source": [
    "s.center(20 , '#')"
   ]
  },
  {
   "cell_type": "code",
   "execution_count": null,
   "id": "eee62521-3e96-4dd8-96cb-c82bf1f4df7e",
   "metadata": {},
   "outputs": [],
   "source": [
    "s = 'Amha'"
   ]
  },
  {
   "cell_type": "code",
   "execution_count": null,
   "id": "a221c856-cdd3-44d9-9b12-d27438e80afb",
   "metadata": {},
   "outputs": [],
   "source": [
    "s.center(40, '@')"
   ]
  },
  {
   "cell_type": "code",
   "execution_count": null,
   "id": "1ae37363-d64b-4f11-9e26-d8ff38281eb9",
   "metadata": {},
   "outputs": [],
   "source": [
    "s = \"aIMNXT\""
   ]
  },
  {
   "cell_type": "code",
   "execution_count": null,
   "id": "2e0a7291-a40e-4021-9028-e2248dbac10f",
   "metadata": {},
   "outputs": [],
   "source": [
    "s.upper()"
   ]
  },
  {
   "cell_type": "code",
   "execution_count": null,
   "id": "a7b9d136-1e32-49be-ba40-626f650bb736",
   "metadata": {},
   "outputs": [],
   "source": [
    "s = 'Amend\\tdatascience\\thyderabad'"
   ]
  },
  {
   "cell_type": "code",
   "execution_count": null,
   "id": "a21dca5d-6a03-489c-8895-aaed30e2f83e",
   "metadata": {},
   "outputs": [],
   "source": [
    "s.expandtabs()"
   ]
  },
  {
   "cell_type": "code",
   "execution_count": null,
   "id": "cd8938bd-e59f-4d12-a8c6-0922fe4c2d5b",
   "metadata": {},
   "outputs": [],
   "source": [
    "s = s.expandtabs()"
   ]
  },
  {
   "cell_type": "code",
   "execution_count": null,
   "id": "9ff7a26e-8f6e-48e2-b868-4aad791b7915",
   "metadata": {},
   "outputs": [],
   "source": [
    "s"
   ]
  },
  {
   "cell_type": "code",
   "execution_count": null,
   "id": "ebd4c6b2-8446-42bd-a542-d8edc14ac582",
   "metadata": {},
   "outputs": [],
   "source": [
    "''.join(s)"
   ]
  },
  {
   "cell_type": "code",
   "execution_count": null,
   "id": "b99c6d91-0ef1-4eaf-9eea-08d4955460f3",
   "metadata": {},
   "outputs": [],
   "source": [
    "' '.join(s)"
   ]
  },
  {
   "cell_type": "code",
   "execution_count": null,
   "id": "3c3c0941-84a2-45d1-82b2-04bc07d9a04f",
   "metadata": {},
   "outputs": [],
   "source": [
    "L = [1,2,3,4,5, \"Keziya\" , 45.67, True]"
   ]
  },
  {
   "cell_type": "code",
   "execution_count": null,
   "id": "4da7af5a-6742-41ee-8af6-c29163b3634a",
   "metadata": {},
   "outputs": [],
   "source": [
    "type(L)"
   ]
  },
  {
   "cell_type": "code",
   "execution_count": null,
   "id": "f08c8961-c8c0-443b-bf86-937424e76447",
   "metadata": {},
   "outputs": [],
   "source": [
    "L[0]"
   ]
  },
  {
   "cell_type": "code",
   "execution_count": null,
   "id": "0bbdc460-eb0a-4b3f-8d19-b8c1a765ff22",
   "metadata": {},
   "outputs": [],
   "source": [
    "L[5]"
   ]
  },
  {
   "cell_type": "code",
   "execution_count": null,
   "id": "b64d9c6b-4428-483c-8872-1e204e4bf0eb",
   "metadata": {},
   "outputs": [],
   "source": [
    "L[-1]"
   ]
  },
  {
   "cell_type": "code",
   "execution_count": null,
   "id": "007da5d8-d937-41a6-bb22-55ecea39f8ff",
   "metadata": {},
   "outputs": [],
   "source": [
    "L[7]"
   ]
  },
  {
   "cell_type": "code",
   "execution_count": null,
   "id": "800f2403-a0d5-42ff-a502-b71f13b0f6c8",
   "metadata": {},
   "outputs": [],
   "source": [
    "len(L)"
   ]
  },
  {
   "cell_type": "code",
   "execution_count": null,
   "id": "fbe087b2-e3d5-4afe-b8ba-6b0ef7c7b552",
   "metadata": {},
   "outputs": [],
   "source": [
    "L[1:5]"
   ]
  },
  {
   "cell_type": "code",
   "execution_count": null,
   "id": "e6c05f65-3129-4e89-a427-d9646030430f",
   "metadata": {},
   "outputs": [],
   "source": [
    "L[::-1]"
   ]
  },
  {
   "cell_type": "code",
   "execution_count": null,
   "id": "13b643c3-f6e5-42aa-87a3-d8d0afed9068",
   "metadata": {},
   "outputs": [],
   "source": [
    "L[0:100:2]"
   ]
  },
  {
   "cell_type": "code",
   "execution_count": null,
   "id": "9ed61082-aa3f-47a5-9048-207942f0bde8",
   "metadata": {},
   "outputs": [],
   "source": [
    "L[0:8:-1]"
   ]
  },
  {
   "cell_type": "code",
   "execution_count": null,
   "id": "96cfc4fb-ded6-49a1-b5a1-1ccb44289631",
   "metadata": {},
   "outputs": [],
   "source": [
    "L[:3]"
   ]
  },
  {
   "cell_type": "code",
   "execution_count": null,
   "id": "a5df1faa-ce61-4137-a7f0-ce2b2baf4979",
   "metadata": {},
   "outputs": [],
   "source": [
    "L + [\"Kemaw\"]"
   ]
  },
  {
   "cell_type": "code",
   "execution_count": null,
   "id": "50f07c4b-d030-450d-b20d-56173434bdd0",
   "metadata": {},
   "outputs": [],
   "source": [
    "L * 2"
   ]
  },
  {
   "cell_type": "code",
   "execution_count": null,
   "id": "a4c1da39-8d0d-469f-af9a-fb395aa7d4bd",
   "metadata": {},
   "outputs": [],
   "source": [
    "60 in L"
   ]
  },
  {
   "cell_type": "code",
   "execution_count": null,
   "id": "c74b963a-812b-4a1e-9c73-e28a75b59a5a",
   "metadata": {},
   "outputs": [],
   "source": [
    "2 in L"
   ]
  },
  {
   "cell_type": "code",
   "execution_count": null,
   "id": "be0867ee-c0ff-4db2-8707-378f0ce2c14b",
   "metadata": {},
   "outputs": [],
   "source": [
    "L"
   ]
  },
  {
   "cell_type": "code",
   "execution_count": null,
   "id": "13c10274-ea98-45ca-8998-38424fe18be2",
   "metadata": {},
   "outputs": [],
   "source": [
    "L +[\"Kemaw\"]"
   ]
  },
  {
   "cell_type": "code",
   "execution_count": null,
   "id": "eedd6aac-cbc9-428b-9ce7-53784099be9d",
   "metadata": {},
   "outputs": [],
   "source": [
    "L =L +[\"Kamaw\"]"
   ]
  },
  {
   "cell_type": "code",
   "execution_count": null,
   "id": "b7ebb5f9-e265-4f12-b4ba-ef9e66b05338",
   "metadata": {},
   "outputs": [],
   "source": [
    "L"
   ]
  },
  {
   "cell_type": "code",
   "execution_count": null,
   "id": "420e8d2f-e055-49c1-8696-902c03d21c6e",
   "metadata": {},
   "outputs": [],
   "source": [
    "L * 2"
   ]
  },
  {
   "cell_type": "code",
   "execution_count": null,
   "id": "502f1487-c694-42f4-90ab-9f04a31383ce",
   "metadata": {},
   "outputs": [],
   "source": [
    "max(L)"
   ]
  },
  {
   "cell_type": "code",
   "execution_count": null,
   "id": "b4f951eb-e1df-44c2-8d21-650cb4e5c7bf",
   "metadata": {},
   "outputs": [],
   "source": [
    "L1 = [3,4,5,6,6]"
   ]
  },
  {
   "cell_type": "code",
   "execution_count": null,
   "id": "7bd25f8d-6804-4b58-8833-76662e585a8b",
   "metadata": {},
   "outputs": [],
   "source": [
    "max(L1)"
   ]
  },
  {
   "cell_type": "code",
   "execution_count": null,
   "id": "3600b0dd-2ea1-411e-b4a9-5b235cb12943",
   "metadata": {},
   "outputs": [],
   "source": [
    "min(L1)"
   ]
  },
  {
   "cell_type": "code",
   "execution_count": null,
   "id": "3919f37f-378a-4865-a8c9-61f08cf81e3b",
   "metadata": {},
   "outputs": [],
   "source": [
    "l2 = [\"damil\" , \"datascience\" , \"Hyderabad\"]"
   ]
  },
  {
   "cell_type": "code",
   "execution_count": null,
   "id": "5cfdb011-edc2-432d-b908-4769f90ee571",
   "metadata": {},
   "outputs": [],
   "source": [
    "max(l2)"
   ]
  },
  {
   "cell_type": "code",
   "execution_count": null,
   "id": "78a154cb-c609-4ac7-9131-cd6df0ba113d",
   "metadata": {},
   "outputs": [],
   "source": [
    "min(l2)"
   ]
  },
  {
   "cell_type": "code",
   "execution_count": null,
   "id": "5f121ece-45c0-4633-aac5-c9fc2cb7ec2e",
   "metadata": {},
   "outputs": [],
   "source": [
    "L"
   ]
  },
  {
   "cell_type": "code",
   "execution_count": null,
   "id": "7a934335-ce6e-43a2-84b9-535c95f325b2",
   "metadata": {},
   "outputs": [],
   "source": [
    "L.append(\"varshith\")"
   ]
  },
  {
   "cell_type": "code",
   "execution_count": null,
   "id": "0784d5ab-b4f4-4ac2-9d89-464fa9ed59c3",
   "metadata": {},
   "outputs": [],
   "source": [
    "L"
   ]
  },
  {
   "cell_type": "code",
   "execution_count": null,
   "id": "faa51672-3c31-4df9-a2f9-c7b964902d57",
   "metadata": {},
   "outputs": [],
   "source": []
  },
  {
   "cell_type": "code",
   "execution_count": null,
   "id": "c41f1ff9-6d42-4f87-ad38-1a21165c0b37",
   "metadata": {},
   "outputs": [],
   "source": []
  },
  {
   "cell_type": "code",
   "execution_count": null,
   "id": "0608c304-70e7-4de9-be35-105d6f413746",
   "metadata": {},
   "outputs": [],
   "source": []
  },
  {
   "cell_type": "code",
   "execution_count": null,
   "id": "5a4768b1-bd0d-45f6-938b-0f90b1a30d78",
   "metadata": {},
   "outputs": [],
   "source": [
    "s[5:0]"
   ]
  },
  {
   "cell_type": "code",
   "execution_count": null,
   "id": "3c64fb3b-25e9-432c-8d18-afac674c4355",
   "metadata": {},
   "outputs": [],
   "source": []
  },
  {
   "cell_type": "code",
   "execution_count": null,
   "id": "ccb5b96b-082d-4f01-b140-e997508a5ba1",
   "metadata": {},
   "outputs": [],
   "source": [
    "s[-7:-1:1]"
   ]
  },
  {
   "cell_type": "code",
   "execution_count": null,
   "id": "f92ad877-4249-4769-a617-7f579d064b7b",
   "metadata": {},
   "outputs": [],
   "source": [
    "s + \"1\""
   ]
  },
  {
   "cell_type": "code",
   "execution_count": null,
   "id": "14dd9c99-e158-49b2-a06c-b5575da59366",
   "metadata": {},
   "outputs": [],
   "source": [
    "len(s)"
   ]
  },
  {
   "cell_type": "code",
   "execution_count": null,
   "id": "3582e9ed-802b-473f-8f79-4a5acd4d805e",
   "metadata": {},
   "outputs": [],
   "source": [
    "s.count('sum')"
   ]
  },
  {
   "cell_type": "code",
   "execution_count": null,
   "id": "b45d8b88-c2c7-4b3f-a55b-1f2998bb3145",
   "metadata": {},
   "outputs": [],
   "source": [
    "s.count('L')"
   ]
  },
  {
   "cell_type": "code",
   "execution_count": null,
   "id": "df07c0ee-0796-49f4-94a8-24aec3b365b3",
   "metadata": {},
   "outputs": [],
   "source": [
    "s.count('a')"
   ]
  },
  {
   "cell_type": "code",
   "execution_count": null,
   "id": "3303a112-abe9-4dd1-a553-f5b887b6190a",
   "metadata": {},
   "outputs": [],
   "source": [
    "s.split('a')"
   ]
  },
  {
   "cell_type": "code",
   "execution_count": null,
   "id": "b8479ee8-300d-4d0d-b824-5309d656a323",
   "metadata": {},
   "outputs": [],
   "source": [
    "s.split('e')"
   ]
  },
  {
   "cell_type": "code",
   "execution_count": null,
   "id": "f684e841-61f4-402f-9680-21abbc547349",
   "metadata": {},
   "outputs": [],
   "source": [
    "type(s.split('a'))"
   ]
  },
  {
   "cell_type": "code",
   "execution_count": null,
   "id": "b58db0ef-380e-4865-8221-89ea883299de",
   "metadata": {},
   "outputs": [],
   "source": [
    "s = \"olusola\""
   ]
  },
  {
   "cell_type": "code",
   "execution_count": null,
   "id": "454f803d-dc9a-4ba2-a931-27cab904850b",
   "metadata": {},
   "outputs": [],
   "source": [
    "s[:-1:-1]"
   ]
  },
  {
   "cell_type": "code",
   "execution_count": null,
   "id": "442e970e-9518-49a8-af5f-bc22ca00266d",
   "metadata": {},
   "outputs": [],
   "source": [
    "s[1:5]"
   ]
  },
  {
   "cell_type": "code",
   "execution_count": null,
   "id": "c8d2f577-9200-4685-a2d2-bc8590e89fe0",
   "metadata": {},
   "outputs": [],
   "source": [
    "s[:-1:-1]"
   ]
  },
  {
   "cell_type": "code",
   "execution_count": null,
   "id": "a025cd2f-b4fe-4259-b0db-771785168dc8",
   "metadata": {},
   "outputs": [],
   "source": [
    "len(s)"
   ]
  },
  {
   "cell_type": "code",
   "execution_count": null,
   "id": "df97e6b6-b4c7-4754-94ad-ab63d62e1250",
   "metadata": {},
   "outputs": [],
   "source": [
    "s = ('hello world')"
   ]
  },
  {
   "cell_type": "code",
   "execution_count": null,
   "id": "97929a7b-714a-46d4-bf22-c2f30e68a19d",
   "metadata": {},
   "outputs": [],
   "source": [
    "L = [1,2,3,4,5,'Jhon', 45.67,True]"
   ]
  },
  {
   "cell_type": "code",
   "execution_count": null,
   "id": "46341422-92e0-417b-917b-39be53c9ffbe",
   "metadata": {},
   "outputs": [],
   "source": [
    "L"
   ]
  },
  {
   "cell_type": "code",
   "execution_count": null,
   "id": "d215935a-abca-48dc-9588-b6d2dbff507c",
   "metadata": {},
   "outputs": [],
   "source": [
    "L.append ([1,2,3,4])"
   ]
  },
  {
   "cell_type": "code",
   "execution_count": null,
   "id": "20c4c1a9-be0e-41d0-82f7-5402a1ab54b3",
   "metadata": {},
   "outputs": [],
   "source": [
    "L"
   ]
  },
  {
   "cell_type": "code",
   "execution_count": null,
   "id": "3367e39f-3087-489c-9775-49dc62bb4c85",
   "metadata": {},
   "outputs": [],
   "source": [
    "L.pop(0)"
   ]
  },
  {
   "cell_type": "code",
   "execution_count": null,
   "id": "9537efe1-5f7a-4a17-8c8d-78ab5fe18549",
   "metadata": {},
   "outputs": [],
   "source": [
    "L"
   ]
  },
  {
   "cell_type": "code",
   "execution_count": null,
   "id": "c1f76c6f-5423-42a9-8196-db108dfd30e4",
   "metadata": {},
   "outputs": [],
   "source": [
    "L.pop(6)"
   ]
  },
  {
   "cell_type": "code",
   "execution_count": null,
   "id": "7874cd10-ec80-4ce7-b309-41c0ee9b9e4f",
   "metadata": {},
   "outputs": [],
   "source": [
    "L"
   ]
  },
  {
   "cell_type": "code",
   "execution_count": null,
   "id": "befc0e54-b37b-48f5-95c8-b17827904b2a",
   "metadata": {},
   "outputs": [],
   "source": [
    "L.reverse()"
   ]
  },
  {
   "cell_type": "code",
   "execution_count": null,
   "id": "52a64f1f-def5-4f27-bd09-c8e4fb57d12f",
   "metadata": {},
   "outputs": [],
   "source": [
    "L2 = [5,6,7,2,3,42,9]"
   ]
  },
  {
   "cell_type": "code",
   "execution_count": null,
   "id": "260f8dd0-8532-4bb8-b154-895d4db3e3d7",
   "metadata": {},
   "outputs": [],
   "source": [
    "L2.sort()"
   ]
  },
  {
   "cell_type": "code",
   "execution_count": null,
   "id": "a38f0129-96dc-4fdb-a1d1-126772cccae9",
   "metadata": {},
   "outputs": [],
   "source": [
    "L2"
   ]
  },
  {
   "cell_type": "code",
   "execution_count": null,
   "id": "4e5d0b19-c0f0-49f7-8f78-cfea5c67d61d",
   "metadata": {},
   "outputs": [],
   "source": [
    "L3 = [8,98,34,23,1,0]"
   ]
  },
  {
   "cell_type": "code",
   "execution_count": null,
   "id": "bd42e438-3d91-4d37-bb37-850496899b41",
   "metadata": {},
   "outputs": [],
   "source": [
    "L3"
   ]
  },
  {
   "cell_type": "code",
   "execution_count": null,
   "id": "41919e4d-6ad9-4f67-aef1-8ac593aed58b",
   "metadata": {},
   "outputs": [],
   "source": [
    "L3.sort()"
   ]
  },
  {
   "cell_type": "code",
   "execution_count": null,
   "id": "ec94a7b4-4334-4039-9e64-f3f02d78a6a8",
   "metadata": {},
   "outputs": [],
   "source": [
    "L3"
   ]
  },
  {
   "cell_type": "code",
   "execution_count": null,
   "id": "0c3f60d3-592d-4529-8800-ea05f9958ac8",
   "metadata": {},
   "outputs": [],
   "source": [
    "L3.sort(reverse = True)"
   ]
  },
  {
   "cell_type": "code",
   "execution_count": null,
   "id": "f55155d0-ae35-4cc6-93fd-0475e21e442b",
   "metadata": {},
   "outputs": [],
   "source": [
    "L3"
   ]
  },
  {
   "cell_type": "code",
   "execution_count": null,
   "id": "1987e231-e927-4cbc-9ba8-41791e6a2a6e",
   "metadata": {},
   "outputs": [],
   "source": [
    "L3.reverse()"
   ]
  },
  {
   "cell_type": "code",
   "execution_count": null,
   "id": "01a4cd9b-e7dd-4ab2-9b01-33725b9b23b5",
   "metadata": {},
   "outputs": [],
   "source": [
    "L3"
   ]
  },
  {
   "cell_type": "code",
   "execution_count": null,
   "id": "fa4e7ce4-e015-46cc-a0b2-e0224f0f404b",
   "metadata": {},
   "outputs": [],
   "source": [
    "11 = [2,3,4]\n",
    "12 = [6,7,8]\n",
    "13 = [3,2,4]"
   ]
  },
  {
   "cell_type": "code",
   "execution_count": null,
   "id": "4427aae0-8f72-4f44-9378-f673c87c63bc",
   "metadata": {},
   "outputs": [],
   "source": [
    "L4 = (11,12,13)"
   ]
  },
  {
   "cell_type": "code",
   "execution_count": null,
   "id": "90856d77-28a6-4a5e-a794-fdddd668aeee",
   "metadata": {},
   "outputs": [],
   "source": [
    "L4"
   ]
  },
  {
   "cell_type": "code",
   "execution_count": null,
   "id": "27a54b2f-9777-4b2b-9743-d1647f472440",
   "metadata": {},
   "outputs": [],
   "source": [
    "L4.count(3)"
   ]
  },
  {
   "cell_type": "code",
   "execution_count": null,
   "id": "a781ce7d-cc44-4be0-af35-feb884d3c0a5",
   "metadata": {},
   "outputs": [],
   "source": [
    "L4.append(3)"
   ]
  },
  {
   "cell_type": "code",
   "execution_count": null,
   "id": "a6fee097-52da-4107-abf3-0ecb026ff83d",
   "metadata": {},
   "outputs": [],
   "source": [
    "L4"
   ]
  },
  {
   "cell_type": "code",
   "execution_count": null,
   "id": "336d2200-a804-400d-89ff-4e81a4f9b677",
   "metadata": {},
   "outputs": [],
   "source": [
    "t = \"4,5,6,7, 'amend', 45.67, True\""
   ]
  },
  {
   "cell_type": "code",
   "execution_count": null,
   "id": "94dd7687-f9cd-4fde-9819-1794e91f1b0d",
   "metadata": {},
   "outputs": [],
   "source": [
    "type(t)"
   ]
  },
  {
   "cell_type": "code",
   "execution_count": null,
   "id": "4d2bb1ad-c36d-491d-86c3-831ef6b8a301",
   "metadata": {},
   "outputs": [],
   "source": [
    "t = (4,5,6,7, 'amend', 45.67, True)"
   ]
  },
  {
   "cell_type": "code",
   "execution_count": null,
   "id": "18d4cbd4-c3c3-4cfd-809c-e8f3d7957374",
   "metadata": {},
   "outputs": [],
   "source": [
    "type(t)"
   ]
  },
  {
   "cell_type": "code",
   "execution_count": null,
   "id": "7443ec77-e4bb-44cc-a6df-fec8b687c067",
   "metadata": {},
   "outputs": [],
   "source": [
    "t2 = (3,4,5,6)"
   ]
  },
  {
   "cell_type": "code",
   "execution_count": null,
   "id": "f9e14fe2-0d4d-4b66-8e81-ba25260752e5",
   "metadata": {},
   "outputs": [],
   "source": [
    "t +t2"
   ]
  },
  {
   "cell_type": "code",
   "execution_count": null,
   "id": "cc802a2e-6c25-44ea-9125-fa46aaabde3f",
   "metadata": {},
   "outputs": [],
   "source": [
    "t.count(3)"
   ]
  },
  {
   "cell_type": "code",
   "execution_count": null,
   "id": "a3b4607c-c685-4ff7-99db-e7cde6c6ba37",
   "metadata": {},
   "outputs": [],
   "source": [
    "t.count(4)"
   ]
  },
  {
   "cell_type": "code",
   "execution_count": null,
   "id": "ffc00063-9e40-4889-a8a0-f12ca344f117",
   "metadata": {},
   "outputs": [],
   "source": [
    "t.index(5)"
   ]
  },
  {
   "cell_type": "code",
   "execution_count": null,
   "id": "98ee38fb-5186-46f4-90d6-2092c47e26ca",
   "metadata": {},
   "outputs": [],
   "source": [
    "len(t)"
   ]
  },
  {
   "cell_type": "code",
   "execution_count": null,
   "id": "edb60cb6-7d09-4509-8c12-8e058ef09239",
   "metadata": {},
   "outputs": [],
   "source": [
    "t.index(7)"
   ]
  },
  {
   "cell_type": "code",
   "execution_count": null,
   "id": "30d60c17-0c65-435f-9667-644c6a273888",
   "metadata": {},
   "outputs": [],
   "source": [
    "t.index(\"amend\")"
   ]
  },
  {
   "cell_type": "code",
   "execution_count": null,
   "id": "2bef4083-cf37-40ba-b6e7-e726b642cbed",
   "metadata": {},
   "outputs": [],
   "source": [
    "t"
   ]
  },
  {
   "cell_type": "code",
   "execution_count": null,
   "id": "94888353-3403-434f-8866-3467962af2fc",
   "metadata": {},
   "outputs": [],
   "source": [
    "t2 = list(t)"
   ]
  },
  {
   "cell_type": "code",
   "execution_count": null,
   "id": "6f78f2c8-8358-4a78-8f53-50e99d0a951f",
   "metadata": {},
   "outputs": [],
   "source": [
    "type(t2)"
   ]
  },
  {
   "cell_type": "code",
   "execution_count": null,
   "id": "4b7cdd8b-ca59-4135-a47e-dd8555e5b8c7",
   "metadata": {},
   "outputs": [],
   "source": [
    "t3 = str(t2)"
   ]
  },
  {
   "cell_type": "code",
   "execution_count": null,
   "id": "6617d676-f902-468e-9e5f-37775eb504e8",
   "metadata": {},
   "outputs": [],
   "source": [
    "type(t3)"
   ]
  },
  {
   "cell_type": "code",
   "execution_count": null,
   "id": "2ff355e7-a524-4c9a-bc66-4e6433ee0ae7",
   "metadata": {},
   "outputs": [],
   "source": [
    "t3"
   ]
  },
  {
   "cell_type": "code",
   "execution_count": null,
   "id": "9e9237d4-80bd-4444-bf8e-88ade92edacc",
   "metadata": {},
   "outputs": [],
   "source": [
    "s = \"damil\""
   ]
  },
  {
   "cell_type": "code",
   "execution_count": null,
   "id": "870240f8-fcc3-4fe0-aec5-6cbe64891660",
   "metadata": {},
   "outputs": [],
   "source": [
    "s.count('d')"
   ]
  },
  {
   "cell_type": "code",
   "execution_count": null,
   "id": "e229b621-d334-4b92-8720-0c2a0cf2a19e",
   "metadata": {},
   "outputs": [],
   "source": [
    "s.count('m')"
   ]
  },
  {
   "cell_type": "code",
   "execution_count": null,
   "id": "dbfe0bd2-0c5d-45f9-904e-cbbd8a4bcaef",
   "metadata": {},
   "outputs": [],
   "source": [
    "s.count('i')"
   ]
  },
  {
   "cell_type": "code",
   "execution_count": null,
   "id": "22d26708-bd1d-44d0-997c-5de82a39e9f4",
   "metadata": {},
   "outputs": [],
   "source": [
    "s = \"I am learning the datascience\""
   ]
  },
  {
   "cell_type": "code",
   "execution_count": null,
   "id": "53794f3d-7170-4081-9f5b-fa6dc2a19bae",
   "metadata": {},
   "outputs": [],
   "source": [
    "s.count('e')"
   ]
  },
  {
   "cell_type": "code",
   "execution_count": null,
   "id": "9ed4ed3f-4b9b-48c1-9cd8-05370a52874a",
   "metadata": {},
   "outputs": [],
   "source": [
    "l2 = [\"damil\", \"datascience\", \"Hyderabad\"]"
   ]
  },
  {
   "cell_type": "code",
   "execution_count": null,
   "id": "5be17a67-3995-4130-9b0c-583fc3ab3978",
   "metadata": {},
   "outputs": [],
   "source": [
    "max(l2)"
   ]
  },
  {
   "cell_type": "code",
   "execution_count": null,
   "id": "0d01942b-35a2-4da0-b572-e8fddfd4d41c",
   "metadata": {},
   "outputs": [],
   "source": [
    "min(l2)"
   ]
  },
  {
   "cell_type": "code",
   "execution_count": null,
   "id": "5b0dbbd1-6034-4fbf-887d-a237937d795c",
   "metadata": {},
   "outputs": [],
   "source": [
    "l = [1,2,3,4,5, 'Jhon', 45.67, True]"
   ]
  },
  {
   "cell_type": "code",
   "execution_count": null,
   "id": "75b689b1-66e7-4552-a59e-124fff1d84a0",
   "metadata": {},
   "outputs": [],
   "source": [
    "l"
   ]
  },
  {
   "cell_type": "code",
   "execution_count": null,
   "id": "741d77cf-0b0b-4c92-8ab0-60df2cfb40c2",
   "metadata": {},
   "outputs": [],
   "source": [
    "l.append(\"varshith\")"
   ]
  },
  {
   "cell_type": "code",
   "execution_count": null,
   "id": "ae320a9e-33d1-469a-b529-e11c3f80da4f",
   "metadata": {},
   "outputs": [],
   "source": [
    "l"
   ]
  },
  {
   "cell_type": "raw",
   "id": "eddd3dd4-8c54-430c-9594-4875cdcbc3a6",
   "metadata": {},
   "source": [
    "l.append([1,2,3,4])"
   ]
  },
  {
   "cell_type": "code",
   "execution_count": null,
   "id": "00a4128c-b285-449e-acb1-e3d8952b1224",
   "metadata": {},
   "outputs": [],
   "source": [
    "l"
   ]
  },
  {
   "cell_type": "code",
   "execution_count": null,
   "id": "7d4d252c-fdc2-43b6-8481-58e19cf84bfa",
   "metadata": {},
   "outputs": [],
   "source": [
    "l.pop(0)"
   ]
  },
  {
   "cell_type": "code",
   "execution_count": null,
   "id": "6bb798a5-4688-4f48-ae24-9b104b66980e",
   "metadata": {},
   "outputs": [],
   "source": [
    "l"
   ]
  },
  {
   "cell_type": "code",
   "execution_count": null,
   "id": "ab8a2733-07f0-43eb-9b0b-401fdd452b0a",
   "metadata": {},
   "outputs": [],
   "source": [
    "l.pop()"
   ]
  },
  {
   "cell_type": "code",
   "execution_count": null,
   "id": "ac609843-3741-4252-a984-e652eaecba95",
   "metadata": {},
   "outputs": [],
   "source": [
    "l"
   ]
  },
  {
   "cell_type": "code",
   "execution_count": null,
   "id": "38eae617-647c-4783-8ded-aebfcb014af5",
   "metadata": {},
   "outputs": [],
   "source": [
    "l.reverse()"
   ]
  },
  {
   "cell_type": "code",
   "execution_count": null,
   "id": "2a10276f-5d28-4fab-baab-ebe74bd3a336",
   "metadata": {},
   "outputs": [],
   "source": [
    "l"
   ]
  },
  {
   "cell_type": "code",
   "execution_count": null,
   "id": "270b8151-38f0-422d-9909-8acb23f18d2e",
   "metadata": {},
   "outputs": [],
   "source": [
    "l[::-1]"
   ]
  },
  {
   "cell_type": "code",
   "execution_count": null,
   "id": "3fe6406a-7f6e-44f2-ba5b-7a4c6fbd4bad",
   "metadata": {},
   "outputs": [],
   "source": [
    "l.sort()"
   ]
  },
  {
   "cell_type": "code",
   "execution_count": null,
   "id": "026bc7c2-368a-4bc6-996e-34203e032e38",
   "metadata": {},
   "outputs": [],
   "source": [
    "l1 = [3,4,5,6,6]"
   ]
  },
  {
   "cell_type": "code",
   "execution_count": null,
   "id": "baef14d9-a7a5-40fe-a02a-a421a21b786c",
   "metadata": {},
   "outputs": [],
   "source": [
    "l1"
   ]
  },
  {
   "cell_type": "code",
   "execution_count": null,
   "id": "011c89a4-a213-490e-80c2-8dbbac7a9e21",
   "metadata": {},
   "outputs": [],
   "source": [
    "l1.sort()"
   ]
  },
  {
   "cell_type": "code",
   "execution_count": null,
   "id": "3d38a6ce-6d31-4117-8a23-e81da310696c",
   "metadata": {},
   "outputs": [],
   "source": [
    "l1"
   ]
  },
  {
   "cell_type": "code",
   "execution_count": null,
   "id": "dfad4420-a375-4a68-9765-c12cd653fc67",
   "metadata": {},
   "outputs": [],
   "source": [
    "l2  = [5,6,7,2,3,42,9]"
   ]
  },
  {
   "cell_type": "code",
   "execution_count": null,
   "id": "2982a669-4554-4cbe-aba2-46e036a0b9ae",
   "metadata": {},
   "outputs": [],
   "source": [
    "l3 = [8,98,34,23,1,0]"
   ]
  },
  {
   "cell_type": "code",
   "execution_count": null,
   "id": "a416c0cd-9418-4517-958f-f3f02eb7553b",
   "metadata": {},
   "outputs": [],
   "source": [
    "l3.sort()"
   ]
  },
  {
   "cell_type": "code",
   "execution_count": null,
   "id": "98c36d78-1ab9-4a51-ae29-7b96ca32d1b1",
   "metadata": {},
   "outputs": [],
   "source": [
    "l3"
   ]
  },
  {
   "cell_type": "code",
   "execution_count": null,
   "id": "d487352c-11eb-49d2-bb4f-6e7131de7979",
   "metadata": {},
   "outputs": [],
   "source": [
    "l3.sort(reverse = True)"
   ]
  },
  {
   "cell_type": "code",
   "execution_count": null,
   "id": "354edd88-5dcd-423a-8a5a-89f7b043a466",
   "metadata": {},
   "outputs": [],
   "source": [
    "l3"
   ]
  },
  {
   "cell_type": "code",
   "execution_count": null,
   "id": "7138c862-d56c-468e-a025-258343ddb1a8",
   "metadata": {},
   "outputs": [],
   "source": [
    "l3[::-1]"
   ]
  },
  {
   "cell_type": "code",
   "execution_count": null,
   "id": "3a69ee0c-af8b-4577-84e6-6fc5303b0424",
   "metadata": {},
   "outputs": [],
   "source": [
    "l1 = [2,3,4]\n",
    "l2 = [6,7,8]\n",
    "l3 = [3,2,4]"
   ]
  },
  {
   "cell_type": "code",
   "execution_count": null,
   "id": "96723d96-12c2-4c99-81b6-a65b67fe9c50",
   "metadata": {},
   "outputs": [],
   "source": [
    "l4 = [l1,l2,l3]"
   ]
  },
  {
   "cell_type": "code",
   "execution_count": null,
   "id": "26901645-4805-437f-8d25-fb99c26c6d59",
   "metadata": {},
   "outputs": [],
   "source": [
    "l4"
   ]
  },
  {
   "cell_type": "code",
   "execution_count": null,
   "id": "a64d7228-293a-4c54-85f7-ad6b2f1fe03d",
   "metadata": {},
   "outputs": [],
   "source": [
    "l4[1]"
   ]
  },
  {
   "cell_type": "code",
   "execution_count": null,
   "id": "1fe82487-721b-4462-80d4-4f787bf11e50",
   "metadata": {},
   "outputs": [],
   "source": [
    "l4[2]"
   ]
  },
  {
   "cell_type": "code",
   "execution_count": null,
   "id": "ee8c6f7f-b477-410d-8f6f-d916864c12ed",
   "metadata": {},
   "outputs": [],
   "source": [
    "l4[0]"
   ]
  },
  {
   "cell_type": "code",
   "execution_count": null,
   "id": "6ff3227c-1aa0-4cf6-b364-63f71ad48bbe",
   "metadata": {},
   "outputs": [],
   "source": [
    "l4[1][1]"
   ]
  },
  {
   "cell_type": "code",
   "execution_count": null,
   "id": "e7fd333c-d764-4584-8d25-26d853456057",
   "metadata": {},
   "outputs": [],
   "source": [
    "l4"
   ]
  },
  {
   "cell_type": "code",
   "execution_count": null,
   "id": "5c5971b1-90dd-4a22-af96-d6b1d9c97e6c",
   "metadata": {},
   "outputs": [],
   "source": [
    "l5 = [l2,l3,l1]"
   ]
  },
  {
   "cell_type": "code",
   "execution_count": null,
   "id": "f9e28edc-8038-4c2e-9c9b-64854d7e5251",
   "metadata": {},
   "outputs": [],
   "source": [
    "l5"
   ]
  },
  {
   "cell_type": "code",
   "execution_count": null,
   "id": "d36d3d25-ffc6-414b-afbf-1277d697bda3",
   "metadata": {},
   "outputs": [],
   "source": [
    "l5[2][2]"
   ]
  },
  {
   "cell_type": "code",
   "execution_count": null,
   "id": "d3f1559f-a4c4-411b-bba3-15af882baa85",
   "metadata": {},
   "outputs": [],
   "source": [
    "l"
   ]
  },
  {
   "cell_type": "code",
   "execution_count": null,
   "id": "9806d89d-b55c-40a5-96ac-62cfa5d681ed",
   "metadata": {},
   "outputs": [],
   "source": [
    "l.count(2)"
   ]
  },
  {
   "cell_type": "code",
   "execution_count": null,
   "id": "489c50e9-686a-4ef7-bafb-2b1305e45294",
   "metadata": {},
   "outputs": [],
   "source": [
    "l4"
   ]
  },
  {
   "cell_type": "code",
   "execution_count": null,
   "id": "830ba001-3d8d-43ce-a49e-bbbeea291d3d",
   "metadata": {},
   "outputs": [],
   "source": [
    "l4.count(3)"
   ]
  },
  {
   "cell_type": "code",
   "execution_count": null,
   "id": "526322f3-f2fe-4462-b921-029cc0e7b24e",
   "metadata": {},
   "outputs": [],
   "source": [
    "l4.append(3)"
   ]
  },
  {
   "cell_type": "code",
   "execution_count": null,
   "id": "b46e12d2-f898-459e-aa3d-cf1fc7776a8a",
   "metadata": {},
   "outputs": [],
   "source": [
    "l4"
   ]
  },
  {
   "cell_type": "code",
   "execution_count": null,
   "id": "e2af806a-d780-4bbd-966f-192ef8042cfc",
   "metadata": {},
   "outputs": [],
   "source": [
    "l4.count(3)"
   ]
  },
  {
   "cell_type": "code",
   "execution_count": null,
   "id": "5db68238-49b2-4571-903c-4eb31f930526",
   "metadata": {},
   "outputs": [],
   "source": [
    "l4"
   ]
  },
  {
   "cell_type": "code",
   "execution_count": null,
   "id": "4cac1ad4-00c0-4054-b821-88db95b91133",
   "metadata": {},
   "outputs": [],
   "source": [
    "l4.append(\"titto\")"
   ]
  },
  {
   "cell_type": "code",
   "execution_count": null,
   "id": "91f4a653-0f73-48e2-a9fc-f0e425692f3d",
   "metadata": {},
   "outputs": [],
   "source": [
    "l4.count(\"titto\")"
   ]
  },
  {
   "cell_type": "code",
   "execution_count": null,
   "id": "b9bc53df-31a5-4f21-ba49-9045946b7066",
   "metadata": {},
   "outputs": [],
   "source": [
    "l"
   ]
  },
  {
   "cell_type": "code",
   "execution_count": null,
   "id": "cc25b94d-9d43-4a4e-b7cf-d0fa3ec22a86",
   "metadata": {},
   "outputs": [],
   "source": [
    "l.extend(\"Prakash\")"
   ]
  },
  {
   "cell_type": "code",
   "execution_count": null,
   "id": "31d078a2-6697-4b16-917f-ad1a03458e42",
   "metadata": {},
   "outputs": [],
   "source": [
    "l"
   ]
  },
  {
   "cell_type": "code",
   "execution_count": null,
   "id": "0812bf38-2979-433b-a954-458bde7f36bd",
   "metadata": {},
   "outputs": [],
   "source": [
    "l.extend(\"padma\")"
   ]
  },
  {
   "cell_type": "code",
   "execution_count": null,
   "id": "373d59a3-041e-4612-ba93-d01c5c7470d2",
   "metadata": {},
   "outputs": [],
   "source": [
    "l.extend([56,34,21])"
   ]
  },
  {
   "cell_type": "code",
   "execution_count": null,
   "id": "1f0a8a34-0b83-4983-9cfe-f7b2b4766328",
   "metadata": {},
   "outputs": [],
   "source": [
    "l.count(\"a\")"
   ]
  },
  {
   "cell_type": "code",
   "execution_count": null,
   "id": "fefa422e-62c3-410b-8dd3-98592f43fe42",
   "metadata": {},
   "outputs": [],
   "source": [
    "l.index(56)"
   ]
  },
  {
   "cell_type": "code",
   "execution_count": null,
   "id": "21813b95-620d-4522-87cb-078df516f223",
   "metadata": {},
   "outputs": [],
   "source": [
    "l.count('a')"
   ]
  },
  {
   "cell_type": "code",
   "execution_count": null,
   "id": "1aef8cef-0a59-4e13-87bb-cbbcf2ce29dc",
   "metadata": {},
   "outputs": [],
   "source": [
    "l = [1,2,3,4,5]"
   ]
  },
  {
   "cell_type": "code",
   "execution_count": null,
   "id": "354f80b1-d966-4a64-9e4d-c860eeae8832",
   "metadata": {},
   "outputs": [],
   "source": [
    "l"
   ]
  },
  {
   "cell_type": "code",
   "execution_count": null,
   "id": "c974ae71-5bca-4e7e-a726-c626ad07b7c7",
   "metadata": {},
   "outputs": [],
   "source": [
    "l.insert(1,[1,2,3,34])"
   ]
  },
  {
   "cell_type": "code",
   "execution_count": null,
   "id": "bbf073fe-6c3c-424a-944b-65cf2d831c33",
   "metadata": {},
   "outputs": [],
   "source": [
    "l"
   ]
  },
  {
   "cell_type": "code",
   "execution_count": null,
   "id": "be4ad7ff-d659-4c8e-8703-31aee0416b85",
   "metadata": {},
   "outputs": [],
   "source": [
    "l.insert(5,\"amend\")"
   ]
  },
  {
   "cell_type": "code",
   "execution_count": null,
   "id": "9cbb44a4-1129-43b4-98f8-2407e9907637",
   "metadata": {},
   "outputs": [],
   "source": [
    "l"
   ]
  },
  {
   "cell_type": "code",
   "execution_count": null,
   "id": "8425b697-ccd8-4547-a025-66e3a2f576d5",
   "metadata": {},
   "outputs": [],
   "source": [
    "l.remove(2)"
   ]
  },
  {
   "cell_type": "code",
   "execution_count": null,
   "id": "48322f4a-f888-4da5-86b5-a1ad103614d3",
   "metadata": {},
   "outputs": [],
   "source": [
    "l"
   ]
  },
  {
   "cell_type": "code",
   "execution_count": null,
   "id": "2ab1c6b1-a500-4e9a-b14f-7f1466c1dfba",
   "metadata": {},
   "outputs": [],
   "source": [
    "l.remove(4)"
   ]
  },
  {
   "cell_type": "code",
   "execution_count": null,
   "id": "568c281d-4a38-4c22-92b0-aa33c30f0755",
   "metadata": {},
   "outputs": [],
   "source": [
    "l\n"
   ]
  },
  {
   "cell_type": "code",
   "execution_count": null,
   "id": "ecca91f1-b6c8-4b5c-8372-4b8b8bf5a873",
   "metadata": {},
   "outputs": [],
   "source": [
    "s = \"amend\""
   ]
  },
  {
   "cell_type": "code",
   "execution_count": null,
   "id": "ee93f1a0-c72c-46ef-a087-088bb67ca0e5",
   "metadata": {},
   "outputs": [],
   "source": [
    "s[2]"
   ]
  },
  {
   "cell_type": "markdown",
   "id": "043770a6-2ff4-4163-89ec-a98c3ecbce5e",
   "metadata": {},
   "source": [
    "## Tuple\n",
    "\n"
   ]
  },
  {
   "cell_type": "code",
   "execution_count": null,
   "id": "26c4fd45-cfbe-4dd8-ad02-bfaa011508fd",
   "metadata": {},
   "outputs": [],
   "source": [
    "t = ()"
   ]
  },
  {
   "cell_type": "code",
   "execution_count": null,
   "id": "1ced35aa-5da0-4f4d-bd98-406377b100f8",
   "metadata": {},
   "outputs": [],
   "source": [
    "t =(4,5,6,7, \"amend\", 45.67, True)"
   ]
  },
  {
   "cell_type": "code",
   "execution_count": null,
   "id": "cdc8e5a9-360a-4d39-b7d1-edc363778814",
   "metadata": {},
   "outputs": [],
   "source": [
    "type(t)"
   ]
  },
  {
   "cell_type": "code",
   "execution_count": null,
   "id": "ea2109fc-d48a-4c45-bfe1-5f943a42c12a",
   "metadata": {},
   "outputs": [],
   "source": [
    "t[2]"
   ]
  },
  {
   "cell_type": "code",
   "execution_count": null,
   "id": "365d0953-1beb-49a0-9ba0-d239722a7eab",
   "metadata": {},
   "outputs": [],
   "source": [
    "t[4]"
   ]
  },
  {
   "cell_type": "code",
   "execution_count": null,
   "id": "06151218-5395-4adf-959b-7ceaaeb58a49",
   "metadata": {},
   "outputs": [],
   "source": [
    "t[-1]"
   ]
  },
  {
   "cell_type": "code",
   "execution_count": null,
   "id": "5edabdee-8439-425e-af51-7994c23da14d",
   "metadata": {},
   "outputs": [],
   "source": [
    "t"
   ]
  },
  {
   "cell_type": "code",
   "execution_count": null,
   "id": "d6c21c89-74e1-4580-836e-3ae23a72f319",
   "metadata": {},
   "outputs": [],
   "source": [
    "t[0:4]"
   ]
  },
  {
   "cell_type": "code",
   "execution_count": null,
   "id": "15e14cf4-4ed9-4a8c-87c8-e43ad23ff4b0",
   "metadata": {},
   "outputs": [],
   "source": [
    "t"
   ]
  },
  {
   "cell_type": "code",
   "execution_count": null,
   "id": "2a817566-e3b8-4e6d-8c6d-638413f47ac4",
   "metadata": {},
   "outputs": [],
   "source": [
    "t[0:6:2]"
   ]
  },
  {
   "cell_type": "code",
   "execution_count": null,
   "id": "097167fb-78e0-4f1b-b76c-77eee21d81fd",
   "metadata": {},
   "outputs": [],
   "source": [
    "t"
   ]
  },
  {
   "cell_type": "code",
   "execution_count": null,
   "id": "08bfac4c-5c77-4a49-893e-7af4b03eac97",
   "metadata": {},
   "outputs": [],
   "source": [
    "t[0:4:-1]"
   ]
  },
  {
   "cell_type": "code",
   "execution_count": null,
   "id": "99e906b3-dacb-4ed9-aeb5-432b6a791c7d",
   "metadata": {},
   "outputs": [],
   "source": [
    "t[::-1]"
   ]
  },
  {
   "cell_type": "code",
   "execution_count": null,
   "id": "08f25a22-a5c4-45a5-b69c-972b0205d33b",
   "metadata": {},
   "outputs": [],
   "source": [
    "l = [1,2,3,456,78]"
   ]
  },
  {
   "cell_type": "code",
   "execution_count": null,
   "id": "a8d240f3-643b-4bbc-b9bb-ff26ceccb203",
   "metadata": {},
   "outputs": [],
   "source": [
    "l[3] = \"Kethy\""
   ]
  },
  {
   "cell_type": "code",
   "execution_count": null,
   "id": "0e41d8d4-0e2d-4137-9805-e55191fd377f",
   "metadata": {},
   "outputs": [],
   "source": [
    "l"
   ]
  },
  {
   "cell_type": "code",
   "execution_count": null,
   "id": "f2c8867c-ef40-4269-ad15-897b4ab3f79c",
   "metadata": {},
   "outputs": [],
   "source": [
    "t = (4, 5, 6, 7, 'amend', 45.67, True)"
   ]
  },
  {
   "cell_type": "code",
   "execution_count": null,
   "id": "e65fc1af-e788-4edb-9daf-b0e140f57723",
   "metadata": {},
   "outputs": [],
   "source": [
    "t"
   ]
  },
  {
   "cell_type": "code",
   "execution_count": null,
   "id": "b4c69b1c-c836-4bbb-a2b3-56b8b0e0fe9b",
   "metadata": {},
   "outputs": [],
   "source": [
    "l"
   ]
  },
  {
   "cell_type": "code",
   "execution_count": null,
   "id": "247e5f7a-fa84-4dce-b9d4-385284645db2",
   "metadata": {},
   "outputs": [],
   "source": [
    "t = (4,5,6,7, \"amend\", 45.67,True)"
   ]
  },
  {
   "cell_type": "code",
   "execution_count": null,
   "id": "f5839116-3798-4a8b-a9b8-cec2f219e439",
   "metadata": {},
   "outputs": [],
   "source": [
    "type(t)"
   ]
  },
  {
   "cell_type": "code",
   "execution_count": null,
   "id": "a5b452e7-6ff6-4f09-a53b-258ce21c5a00",
   "metadata": {},
   "outputs": [],
   "source": [
    "t1 = (3,4,5,6)"
   ]
  },
  {
   "cell_type": "code",
   "execution_count": null,
   "id": "ca86b6c7-80db-4c6f-bbc2-365ce4135ecf",
   "metadata": {},
   "outputs": [],
   "source": [
    "t + t1"
   ]
  },
  {
   "cell_type": "code",
   "execution_count": null,
   "id": "42a09edb-6222-42d6-a5c7-6c16b3e4246a",
   "metadata": {},
   "outputs": [],
   "source": [
    "t.count(3)"
   ]
  },
  {
   "cell_type": "code",
   "execution_count": null,
   "id": "5f653550-6995-42e4-9df0-56518bfe2180",
   "metadata": {},
   "outputs": [],
   "source": [
    "t.count(4)"
   ]
  },
  {
   "cell_type": "code",
   "execution_count": null,
   "id": "9821c550-d7e5-4172-80ea-ddb53926c5d4",
   "metadata": {},
   "outputs": [],
   "source": [
    "t.index(5)"
   ]
  },
  {
   "cell_type": "code",
   "execution_count": null,
   "id": "aa96dfa9-88f8-4865-a0b3-a55e07cfaad5",
   "metadata": {},
   "outputs": [],
   "source": [
    "len(t)"
   ]
  },
  {
   "cell_type": "code",
   "execution_count": null,
   "id": "b0025dcf-b5eb-4a07-9b83-7e392b15888c",
   "metadata": {},
   "outputs": [],
   "source": [
    "t.index(\"amend\")"
   ]
  },
  {
   "cell_type": "code",
   "execution_count": null,
   "id": "553130ac-d8d1-4f14-bb9c-4e6ad2871f2f",
   "metadata": {},
   "outputs": [],
   "source": [
    "t2 = list(t)"
   ]
  },
  {
   "cell_type": "code",
   "execution_count": null,
   "id": "c1c63161-e3da-4669-aa6e-ee0587a50406",
   "metadata": {},
   "outputs": [],
   "source": [
    "t2"
   ]
  },
  {
   "cell_type": "code",
   "execution_count": null,
   "id": "a2d90dab-38be-49f3-801c-3e4a50e99a0f",
   "metadata": {},
   "outputs": [],
   "source": []
  },
  {
   "cell_type": "markdown",
   "id": "983fa72e-20a9-4e2d-aaf0-d45c1b516eb2",
   "metadata": {},
   "source": [
    "## Dictionaries\n",
    "Note: I am Learning Dictnories"
   ]
  },
  {
   "cell_type": "code",
   "execution_count": null,
   "id": "941ce48b-9cdc-4893-8b97-b3a3b282bb66",
   "metadata": {},
   "outputs": [],
   "source": [
    "d = {}"
   ]
  },
  {
   "cell_type": "code",
   "execution_count": null,
   "id": "860b3cab-69f5-4a7b-9c44-8ac4c539b607",
   "metadata": {},
   "outputs": [],
   "source": [
    "type(d)"
   ]
  },
  {
   "cell_type": "code",
   "execution_count": null,
   "id": "59eeef59-3391-40be-9b34-93771008c556",
   "metadata": {},
   "outputs": [],
   "source": [
    "d1 = {1}"
   ]
  },
  {
   "cell_type": "code",
   "execution_count": null,
   "id": "6310627f-805b-4d8b-b7d9-ab01118d85cc",
   "metadata": {},
   "outputs": [],
   "source": [
    "type(d1)"
   ]
  },
  {
   "cell_type": "code",
   "execution_count": null,
   "id": "d1f5f486-8a25-4535-bd99-65b5334e56a4",
   "metadata": {},
   "outputs": [],
   "source": [
    "d2 = {'key1' :\"value\",234:\"xyz\", \"name\":\"victore\",\"no\":34324345}"
   ]
  },
  {
   "cell_type": "code",
   "execution_count": null,
   "id": "bcac8691-0aa2-4979-a75c-948056d90c14",
   "metadata": {},
   "outputs": [],
   "source": [
    "d2"
   ]
  },
  {
   "cell_type": "code",
   "execution_count": null,
   "id": "3d7aa06a-c1a9-4db4-9c44-5389578c7b75",
   "metadata": {},
   "outputs": [],
   "source": [
    "type(d2)"
   ]
  },
  {
   "cell_type": "code",
   "execution_count": null,
   "id": "81f38c72-c214-459d-b88f-7d093c2bc2d6",
   "metadata": {},
   "outputs": [],
   "source": [
    "d2['name']"
   ]
  },
  {
   "cell_type": "code",
   "execution_count": null,
   "id": "bbe26f97-84e0-4814-9818-d7c452852fa9",
   "metadata": {},
   "outputs": [],
   "source": [
    "d2"
   ]
  },
  {
   "cell_type": "code",
   "execution_count": null,
   "id": "d014f7bf-a1ed-4487-b884-e1086d6f2242",
   "metadata": {},
   "outputs": [],
   "source": [
    "d2['no']"
   ]
  },
  {
   "cell_type": "code",
   "execution_count": null,
   "id": "3bf2e1c2-18ca-417c-aada-aeb7a32c8a26",
   "metadata": {},
   "outputs": [],
   "source": [
    "d3 = {'name':\"jhon\",'tech':[\"python\", \"ML\", \"DL\", \"NLP\",\"CV\", \"Big data\", \"data analytics\"]}"
   ]
  },
  {
   "cell_type": "code",
   "execution_count": null,
   "id": "5c3641e2-ac8d-4e96-821a-31aa27f3f4b6",
   "metadata": {},
   "outputs": [],
   "source": [
    "d3"
   ]
  },
  {
   "cell_type": "code",
   "execution_count": null,
   "id": "2242af76-5248-4019-ac18-b96c844e4a65",
   "metadata": {},
   "outputs": [],
   "source": [
    "d4 = {\"name\":\"iNuron\", \"contact_info\":34345, \"name\": \"sudh\"}"
   ]
  },
  {
   "cell_type": "code",
   "execution_count": null,
   "id": "70c1c342-6bf9-4b44-b1ad-0ca9d8ad79de",
   "metadata": {},
   "outputs": [],
   "source": [
    "d4"
   ]
  },
  {
   "cell_type": "code",
   "execution_count": null,
   "id": "67e85227-059b-4692-8900-371be4b0adc5",
   "metadata": {},
   "outputs": [],
   "source": [
    "d4"
   ]
  },
  {
   "cell_type": "code",
   "execution_count": null,
   "id": "2a9d901e-cdbc-4955-aa18-fcbfb10ad260",
   "metadata": {},
   "outputs": [],
   "source": [
    "d4[\"name\"] = \"xyz\""
   ]
  },
  {
   "cell_type": "code",
   "execution_count": null,
   "id": "59a0e38c-424d-41b0-8670-0792a8010757",
   "metadata": {},
   "outputs": [],
   "source": [
    "d4"
   ]
  },
  {
   "cell_type": "code",
   "execution_count": null,
   "id": "f5603afa-ee82-4c78-af96-36cbf36b00f4",
   "metadata": {},
   "outputs": [],
   "source": [
    "d3"
   ]
  },
  {
   "cell_type": "code",
   "execution_count": null,
   "id": "ce178866-a1ad-42e9-91d8-3ab88735209b",
   "metadata": {},
   "outputs": [],
   "source": [
    "\"python\" in d3['tech']"
   ]
  },
  {
   "cell_type": "code",
   "execution_count": null,
   "id": "0454b659-c4ee-4b71-83e6-afcaec529e2f",
   "metadata": {},
   "outputs": [],
   "source": [
    "\"jhon\" in d3['name']"
   ]
  },
  {
   "cell_type": "code",
   "execution_count": null,
   "id": "55ed2826-c1d6-4da0-a724-b8734fbc73ab",
   "metadata": {},
   "outputs": [],
   "source": [
    "\"bala\" in d3['tech']"
   ]
  },
  {
   "cell_type": "code",
   "execution_count": null,
   "id": "07c8f53d-1255-4b88-bded-71fea80404f9",
   "metadata": {},
   "outputs": [],
   "source": [
    "d4"
   ]
  },
  {
   "cell_type": "code",
   "execution_count": null,
   "id": "06a34226-f82a-4aeb-96db-cecbe424d026",
   "metadata": {},
   "outputs": [],
   "source": [
    "d4[\"name1\"] = \"abyis\""
   ]
  },
  {
   "cell_type": "code",
   "execution_count": null,
   "id": "84e3e465-f851-4d44-b468-984f3110d230",
   "metadata": {},
   "outputs": [],
   "source": [
    "d4"
   ]
  },
  {
   "cell_type": "code",
   "execution_count": null,
   "id": "a1da04b4-87fd-4e46-af22-324d0c479ae2",
   "metadata": {},
   "outputs": [],
   "source": [
    "d4[\"k2\"] = \"Amend\""
   ]
  },
  {
   "cell_type": "code",
   "execution_count": null,
   "id": "db75217b-ebf2-47e9-b3d6-4db4eca0655a",
   "metadata": {},
   "outputs": [],
   "source": [
    "d4"
   ]
  },
  {
   "cell_type": "code",
   "execution_count": null,
   "id": "5958c8e6-d295-4c56-8e6c-6ce6a9d65357",
   "metadata": {},
   "outputs": [],
   "source": [
    "d4['k2'] = d2"
   ]
  },
  {
   "cell_type": "code",
   "execution_count": null,
   "id": "712ff7f6-13a5-49ce-b0eb-a5f2107b895e",
   "metadata": {},
   "outputs": [],
   "source": [
    "d4"
   ]
  },
  {
   "cell_type": "code",
   "execution_count": null,
   "id": "48bcfa4d-4757-4261-8609-5a4a176715eb",
   "metadata": {},
   "outputs": [],
   "source": [
    "d2"
   ]
  },
  {
   "cell_type": "code",
   "execution_count": null,
   "id": "627ea5e0-ea94-4d13-990c-260beb76ef9f",
   "metadata": {},
   "outputs": [],
   "source": [
    "\"vicor\" in d4[\"k2\"]"
   ]
  },
  {
   "cell_type": "code",
   "execution_count": null,
   "id": "3ce25957-9d9b-4cc4-a0ac-106bafd03c2c",
   "metadata": {},
   "outputs": [],
   "source": [
    "\"victore\" in d4[\"k2\"][\"name\"]"
   ]
  },
  {
   "cell_type": "code",
   "execution_count": null,
   "id": "d5ac1342-395a-4a82-8975-88d238a05196",
   "metadata": {},
   "outputs": [],
   "source": [
    "d4['k2']"
   ]
  },
  {
   "cell_type": "code",
   "execution_count": null,
   "id": "e2f30dbf-251c-496c-aded-6940c2ffb562",
   "metadata": {},
   "outputs": [],
   "source": [
    "d4['k2']['key1']"
   ]
  },
  {
   "cell_type": "code",
   "execution_count": null,
   "id": "62975c90-178b-4d43-9d84-87c07a87b01e",
   "metadata": {},
   "outputs": [],
   "source": [
    "d4['k2']['no']"
   ]
  },
  {
   "cell_type": "code",
   "execution_count": null,
   "id": "524a3287-a07b-4f59-985f-4065c499076f",
   "metadata": {},
   "outputs": [],
   "source": [
    "d5 = {_:\"olisola\"}"
   ]
  },
  {
   "cell_type": "code",
   "execution_count": null,
   "id": "0da58079-f396-4bd9-be3d-e0b1b0806df7",
   "metadata": {},
   "outputs": [],
   "source": [
    "d5[_]"
   ]
  },
  {
   "cell_type": "code",
   "execution_count": null,
   "id": "004e2165-4b6e-4f4c-9223-8af8d27bb71f",
   "metadata": {},
   "outputs": [],
   "source": [
    "d6 = {(1,2,34):\"krity\"}"
   ]
  },
  {
   "cell_type": "code",
   "execution_count": null,
   "id": "feecbf78-d3f2-41af-89de-d0b71d068a20",
   "metadata": {},
   "outputs": [],
   "source": [
    "d6[(1,2,34)]"
   ]
  },
  {
   "cell_type": "code",
   "execution_count": null,
   "id": "8c8e1e04-dce7-445a-ac6a-99c5c134c6ae",
   "metadata": {},
   "outputs": [],
   "source": [
    "d7 = {[1,2,3,4]:\"titto\"}"
   ]
  },
  {
   "cell_type": "code",
   "execution_count": null,
   "id": "3fb58372-188a-49e8-b138-e88a658cd8a0",
   "metadata": {},
   "outputs": [],
   "source": [
    "d8 = {{3:4}:\"Ronal\"}"
   ]
  },
  {
   "cell_type": "code",
   "execution_count": null,
   "id": "76a01a06-1b56-417a-81ea-eb80d11caf3e",
   "metadata": {},
   "outputs": [],
   "source": [
    "d2"
   ]
  },
  {
   "cell_type": "code",
   "execution_count": null,
   "id": "22c0ea36-409b-4e00-9061-d5a7095555b6",
   "metadata": {},
   "outputs": [],
   "source": [
    "d3"
   ]
  },
  {
   "cell_type": "code",
   "execution_count": null,
   "id": "64574081-2372-4fff-828e-74a2867e15eb",
   "metadata": {},
   "outputs": [],
   "source": [
    "d2.keys()"
   ]
  },
  {
   "cell_type": "code",
   "execution_count": null,
   "id": "e4710f93-8d72-4903-a9d5-df3dbd004242",
   "metadata": {},
   "outputs": [],
   "source": [
    "d2.values()"
   ]
  },
  {
   "cell_type": "code",
   "execution_count": null,
   "id": "5217ffd0-5eb0-4110-8181-fe62856aceaf",
   "metadata": {},
   "outputs": [],
   "source": [
    "d2.items()"
   ]
  },
  {
   "cell_type": "markdown",
   "id": "a6a62791-6777-45a3-bdf3-f2a04d4036f2",
   "metadata": {},
   "source": []
  },
  {
   "cell_type": "markdown",
   "id": "db58f8a9-4bdb-47a8-a49b-61186f511bcc",
   "metadata": {},
   "source": [
    "## Set\n"
   ]
  },
  {
   "cell_type": "code",
   "execution_count": null,
   "id": "ffcd93d2-c65a-485b-ad84-2177c60d6c9e",
   "metadata": {},
   "outputs": [],
   "source": [
    "s = {3,4,5,6,7,8}"
   ]
  },
  {
   "cell_type": "code",
   "execution_count": null,
   "id": "b6f5513a-808f-4a84-b520-3fe6127842db",
   "metadata": {},
   "outputs": [],
   "source": [
    "type(s)"
   ]
  },
  {
   "cell_type": "code",
   "execution_count": null,
   "id": "92a41721-9c0e-4970-9319-3d27c276a7cd",
   "metadata": {},
   "outputs": [],
   "source": [
    "s1 = {3,4,5,6,77,8,8,9,9,0,0,0}"
   ]
  },
  {
   "cell_type": "code",
   "execution_count": null,
   "id": "ccd55d42-d21d-4511-adc4-f7e8e00f0761",
   "metadata": {},
   "outputs": [],
   "source": [
    "s1"
   ]
  },
  {
   "cell_type": "code",
   "execution_count": null,
   "id": "b7528936-e80e-47a0-ad2b-c039cb3a5399",
   "metadata": {},
   "outputs": [],
   "source": [
    "s2 = {3245,4545,6456,5645,675,6234,345}"
   ]
  },
  {
   "cell_type": "code",
   "execution_count": null,
   "id": "3e7870ac-6f52-45ed-8b47-879b3478c64f",
   "metadata": {},
   "outputs": [],
   "source": [
    "s2"
   ]
  },
  {
   "cell_type": "code",
   "execution_count": null,
   "id": "7099d5d0-f567-4f74-a179-32b414664e64",
   "metadata": {},
   "outputs": [],
   "source": [
    "s3 = {\"Prakash\", 234,34,12,645,12,5,'b','6'}"
   ]
  },
  {
   "cell_type": "code",
   "execution_count": null,
   "id": "0df4ab32-90c8-4614-8c68-a8731f163b2f",
   "metadata": {},
   "outputs": [],
   "source": [
    "s3"
   ]
  },
  {
   "cell_type": "code",
   "execution_count": null,
   "id": "799eb44b-a73e-4311-a8a3-6b9cfd759bdf",
   "metadata": {},
   "outputs": [],
   "source": [
    "s[0]"
   ]
  },
  {
   "cell_type": "code",
   "execution_count": null,
   "id": "379395f2-8df8-4367-b6d0-4b8669e0eb1f",
   "metadata": {},
   "outputs": [],
   "source": [
    "list(s3)"
   ]
  },
  {
   "cell_type": "code",
   "execution_count": null,
   "id": "a1ea59f5-6c35-42bc-a601-7c32e0c6a6bb",
   "metadata": {},
   "outputs": [],
   "source": [
    "tuple(s3)"
   ]
  },
  {
   "cell_type": "code",
   "execution_count": null,
   "id": "fee147c0-673b-4e3e-a8e6-3cf3efeafce7",
   "metadata": {},
   "outputs": [],
   "source": [
    "l =[2,3,4,5656,7,6,7,7,7,7,7,7,7,7]"
   ]
  },
  {
   "cell_type": "code",
   "execution_count": null,
   "id": "76412dd7-6bda-4d59-ae63-a1e9e3144b7b",
   "metadata": {},
   "outputs": [],
   "source": [
    "l"
   ]
  },
  {
   "cell_type": "code",
   "execution_count": null,
   "id": "4f623a21-d653-4826-a235-6ed5b5eac0da",
   "metadata": {},
   "outputs": [],
   "source": [
    "set(l)"
   ]
  },
  {
   "cell_type": "code",
   "execution_count": null,
   "id": "63eee6f3-6009-482c-b03c-053714c11070",
   "metadata": {},
   "outputs": [],
   "source": [
    "l = list(set(l))"
   ]
  },
  {
   "cell_type": "code",
   "execution_count": null,
   "id": "29afdd15-8b19-4591-9532-ee3ba3b78e44",
   "metadata": {},
   "outputs": [],
   "source": [
    "l"
   ]
  },
  {
   "cell_type": "markdown",
   "id": "66de9b75-9e0f-4e03-af05-ad5b5ae01d2d",
   "metadata": {},
   "source": [
    "## IF , elif, else Condition"
   ]
  },
  {
   "cell_type": "code",
   "execution_count": null,
   "id": "26e241bc-2fc7-47bf-a7a8-ce6eec828b0c",
   "metadata": {},
   "outputs": [],
   "source": [
    "a = 10"
   ]
  },
  {
   "cell_type": "code",
   "execution_count": null,
   "id": "0c2136fb-f1be-4d5b-9b9b-1b3bfe463384",
   "metadata": {},
   "outputs": [],
   "source": [
    "if a == 11 :\n",
    "    print(\"this is my first condition\")"
   ]
  },
  {
   "cell_type": "code",
   "execution_count": null,
   "id": "05e8ee63-7bbe-4f72-8a15-b22e28d52893",
   "metadata": {},
   "outputs": [],
   "source": [
    "a = 10\n",
    "if a == 10:\n",
    "    print(\"print this is condition true\")"
   ]
  },
  {
   "cell_type": "code",
   "execution_count": null,
   "id": "cf151ce9-56d7-4c70-96b4-9fabce704fc4",
   "metadata": {},
   "outputs": [],
   "source": [
    "a= 10\n",
    "if a > 8:\n",
    "    print (\"print this if contion is true\")"
   ]
  },
  {
   "cell_type": "code",
   "execution_count": null,
   "id": "0d9c675a-d789-4b41-a125-faf81ef32023",
   "metadata": {},
   "outputs": [],
   "source": [
    "a = 10\n",
    "if a > 5 :\n",
    "    pass\n"
   ]
  },
  {
   "cell_type": "code",
   "execution_count": null,
   "id": "67d4fa9f-3963-45d5-b4b8-6a0b0f140c6a",
   "metadata": {},
   "outputs": [],
   "source": [
    "a = 11\n",
    "if a==11:\n",
    "    print(\"my condition os true here\")\n",
    "else:\n",
    "    print(\"print this else info\")"
   ]
  },
  {
   "cell_type": "code",
   "execution_count": null,
   "id": "56896e48-c425-4386-b75a-33ff8a5e45eb",
   "metadata": {},
   "outputs": [],
   "source": [
    "a = 10\n",
    "if a ==12:\n",
    "    print(\"here we are trying to compare 10 with 12\")\n",
    "else:\n",
    "    print(\"print this else info\")"
   ]
  },
  {
   "cell_type": "code",
   "execution_count": null,
   "id": "a9a7d26d-07d4-4f67-9f65-c44898a63536",
   "metadata": {},
   "outputs": [],
   "source": [
    "a = 10\n",
    "if a == 12:\n",
    "    print(\"here we are trying to compare 10 with 12\")\n",
    "elif a == 10:\n",
    "    print(\"we are trying to compare 10 with 11\")\n",
    "else:\n",
    "    print(\"if all the blocks will fail then do this\")\n",
    "    "
   ]
  },
  {
   "cell_type": "code",
   "execution_count": null,
   "id": "9b81edba-9c17-4f73-b11e-c1c9e662505b",
   "metadata": {},
   "outputs": [],
   "source": [
    "num = input(\"please enter the value\")\n",
    "if num ==100:\n",
    "    print(\" myou given the number are 100\")\n",
    "else:\n",
    "    print(\"you are not giving the number of 100\")"
   ]
  },
  {
   "cell_type": "code",
   "execution_count": null,
   "id": "d15cdb2d-ae6b-44da-b125-9a40e32f6358",
   "metadata": {},
   "outputs": [],
   "source": [
    "price = 1000\n",
    "if price>500:\n",
    "    print(\"may be i wont able to buy a jacket\")\n",
    "elif price>500:\n",
    "    print(\"i will be able to buy jacket\")\n",
    "\n",
    "elif price == 500:\n",
    "    print(\"for sure i will be able to buy\")\n",
    "else:\n",
    "    print(\"i dont know\")\n",
    "\n"
   ]
  },
  {
   "cell_type": "code",
   "execution_count": null,
   "id": "60c20e6c-7056-4615-a31c-28e22ba6d74a",
   "metadata": {},
   "outputs": [],
   "source": [
    "l =  [1,2,3,4,5,6]\n",
    "2 in l"
   ]
  },
  {
   "cell_type": "code",
   "execution_count": null,
   "id": "8cb64885-4b4a-493d-ad7c-ddd26a036f09",
   "metadata": {},
   "outputs": [],
   "source": [
    "if 2 in l:\n",
    "    print(\"try to perform a task\")\n",
    "else:\n",
    "    print(\"do not perform this task\")"
   ]
  },
  {
   "cell_type": "code",
   "execution_count": null,
   "id": "3ccd5fb3-2f7c-40be-82b4-3db1e35d8633",
   "metadata": {},
   "outputs": [],
   "source": [
    "a = 10\n",
    "if a == 11:\n",
    "    print(\"this is my first condition\")"
   ]
  },
  {
   "cell_type": "code",
   "execution_count": null,
   "id": "35395091-149e-4372-805a-52a115e8d47e",
   "metadata": {},
   "outputs": [],
   "source": [
    "a = 10\n",
    "if a ==10:\n",
    "    print(\"my condition is true\")"
   ]
  },
  {
   "cell_type": "code",
   "execution_count": null,
   "id": "513e5c95-91c8-4804-9121-cbdb1131fae8",
   "metadata": {},
   "outputs": [],
   "source": [
    "a = 10 \n",
    "if a>8:\n",
    "    print( \"my condition is true\")"
   ]
  },
  {
   "cell_type": "code",
   "execution_count": null,
   "id": "1a5980be-2479-4d99-afdd-6aa82a3cda8e",
   "metadata": {},
   "outputs": [],
   "source": [
    "a = 10\n",
    "if a == 11:\n",
    "    print(\"my condition is true\")\n",
    "    \n",
    "else:\n",
    "    print(\"my condition is not true here\")\n"
   ]
  },
  {
   "cell_type": "code",
   "execution_count": null,
   "id": "2855fd37-c512-489b-81a7-f99d9559c840",
   "metadata": {},
   "outputs": [],
   "source": [
    "a = 10 \n",
    "if a>5:\n",
    "    pass"
   ]
  },
  {
   "cell_type": "code",
   "execution_count": 1,
   "id": "2e0106a9-c022-43dd-a09c-dd595d1ee67e",
   "metadata": {},
   "outputs": [
    {
     "name": "stdout",
     "output_type": "stream",
     "text": [
      "if all the blocks will fail than do this\n"
     ]
    }
   ],
   "source": [
    "a = 11\n",
    "if a==12:\n",
    "    print(\"my condition is ture\")\n",
    "elif a ==10:\n",
    "    print(\"we are trying to compare 10 and 11\")\n",
    "else:\n",
    "    print( \"if all the blocks will fail than do this\")"
   ]
  },
  {
   "cell_type": "code",
   "execution_count": null,
   "id": "04488347-9728-44fe-9059-537112959a68",
   "metadata": {},
   "outputs": [],
   "source": []
  },
  {
   "cell_type": "code",
   "execution_count": 3,
   "id": "270de8c4-9c9e-4794-ab52-3d40b048f982",
   "metadata": {},
   "outputs": [
    {
     "name": "stdin",
     "output_type": "stream",
     "text": [
      "please enter the value 100\n"
     ]
    },
    {
     "name": "stdout",
     "output_type": "stream",
     "text": [
      "you given the number of 100\n"
     ]
    }
   ],
   "source": [
    "num = int(input(\"please enter the value\"))\n",
    "if num ==100:\n",
    "    print(\"you given the number of 100\")\n",
    "else:\n",
    "    print(\"you are not given the number of 100\")\n",
    "    "
   ]
  },
  {
   "cell_type": "code",
   "execution_count": 7,
   "id": "312809d5-317e-4bfb-9989-f1cddc1be4aa",
   "metadata": {},
   "outputs": [
    {
     "name": "stdout",
     "output_type": "stream",
     "text": [
      " I am not sure, what to do\n"
     ]
    }
   ],
   "source": [
    "price=1200\n",
    "if price>1200:\n",
    "    print(\"i may wont buy cell-phone\")\n",
    "elif price<600:\n",
    "    print(\"i may able to buy cell-phone\")\n",
    "else:\n",
    "    print(\" I am not sure, what to do\")"
   ]
  },
  {
   "cell_type": "code",
   "execution_count": 8,
   "id": "3ac5f731-820a-44d9-bb0d-efc6df797130",
   "metadata": {},
   "outputs": [],
   "source": [
    "l = [1,2,3,4,5,6,7]"
   ]
  },
  {
   "cell_type": "code",
   "execution_count": 9,
   "id": "a2a150a1-853e-4ba8-97a8-71b4bdc998ff",
   "metadata": {},
   "outputs": [
    {
     "data": {
      "text/plain": [
       "True"
      ]
     },
     "execution_count": 9,
     "metadata": {},
     "output_type": "execute_result"
    }
   ],
   "source": [
    "2 in l"
   ]
  },
  {
   "cell_type": "code",
   "execution_count": 11,
   "id": "f9c67181-cf20-4bc2-8395-7abe66ff82b7",
   "metadata": {},
   "outputs": [
    {
     "name": "stdout",
     "output_type": "stream",
     "text": [
      "True\n"
     ]
    }
   ],
   "source": [
    "if 2 in l:\n",
    "    print(\"True\")\n",
    "else:\n",
    "    print(\"False\")"
   ]
  },
  {
   "cell_type": "code",
   "execution_count": 13,
   "id": "3ccb2c92-ee77-49a0-9fa5-81094d0bb08d",
   "metadata": {},
   "outputs": [
    {
     "name": "stdout",
     "output_type": "stream",
     "text": [
      "true because I want opposite answer\n"
     ]
    }
   ],
   "source": [
    "if 10 in l:\n",
    "    print(\"False\")\n",
    "else:\n",
    "    print(\"true because I want opposite answer\")"
   ]
  },
  {
   "cell_type": "code",
   "execution_count": 14,
   "id": "2f3a2265-98f7-4ebe-b9c8-0324debd66d5",
   "metadata": {},
   "outputs": [],
   "source": [
    "l =[1,2,3,4,5,6]\n"
   ]
  },
  {
   "cell_type": "code",
   "execution_count": 15,
   "id": "7bfa694e-13db-41a6-8799-51a2418a250d",
   "metadata": {},
   "outputs": [
    {
     "name": "stdout",
     "output_type": "stream",
     "text": [
      " 10 is not in my list\n"
     ]
    }
   ],
   "source": [
    "if 10 in l:\n",
    "    print(\"10 is in my lsit\")\n",
    "else:\n",
    "    print(\" 10 is not in my list\")"
   ]
  },
  {
   "cell_type": "code",
   "execution_count": 16,
   "id": "ee609a49-111c-4995-ab47-f5075e5980a8",
   "metadata": {},
   "outputs": [],
   "source": [
    "l = [1,2,3,4,10]"
   ]
  },
  {
   "cell_type": "code",
   "execution_count": 18,
   "id": "cbebb952-f087-4388-a4b4-8e9f797e1e97",
   "metadata": {},
   "outputs": [
    {
     "name": "stdout",
     "output_type": "stream",
     "text": [
      "try to do addition\n",
      " this is new statement\n"
     ]
    }
   ],
   "source": [
    "if 10 in l:\n",
    "    print(\"try to do addition\")\n",
    "elif 2 in l:\n",
    "    print(\"try to do sub\")\n",
    "elif 3 in l:\n",
    "    print(\"try to do mul\")\n",
    "if 4 in l:\n",
    "    print(\" this is new statement\")"
   ]
  },
  {
   "cell_type": "code",
   "execution_count": 19,
   "id": "4e951072-26ae-4d85-919a-521e9832146d",
   "metadata": {},
   "outputs": [
    {
     "data": {
      "text/plain": [
       "[1, 2, 3, 4, 10]"
      ]
     },
     "execution_count": 19,
     "metadata": {},
     "output_type": "execute_result"
    }
   ],
   "source": [
    "l"
   ]
  },
  {
   "cell_type": "code",
   "execution_count": 22,
   "id": "fa816894-737f-41fe-94f4-5025d1152ef7",
   "metadata": {},
   "outputs": [
    {
     "name": "stdout",
     "output_type": "stream",
     "text": [
      " This is second common sense\n"
     ]
    }
   ],
   "source": [
    "if 11 in l:\n",
    "    print(\"this is true\")\n",
    "elif 12 in l:\n",
    "    print(\"This is also not true\")\n",
    "elif 13 in l:\n",
    "    print(\" this is no way to be true\")\n",
    "    print(\"This is make sense\")\n",
    "if 4 in l:\n",
    "    print(\" This is second common sense\")\n",
    "    "
   ]
  },
  {
   "cell_type": "code",
   "execution_count": 1,
   "id": "0ec9e62f-3157-4b80-83fb-e59138eb1461",
   "metadata": {},
   "outputs": [
    {
     "name": "stdin",
     "output_type": "stream",
     "text": [
      "please enter the  price :  600\n"
     ]
    },
    {
     "name": "stdout",
     "output_type": "stream",
     "text": [
      "i wont be able to buy anything with this price tag\n",
      "lets try something else\n"
     ]
    }
   ],
   "source": [
    "price = int(input(\"please enter the  price : \"))\n",
    "if price <500:\n",
    "    print(\"i will able to buy something\")\n",
    "    if price <400:\n",
    "        print(\"i will be able to buy jacket\")\n",
    "    elif price<300:\n",
    "        print(\"i will be able to buy shirt\")\n",
    "        if price<200:\n",
    "            print(\" i will do something\")\n",
    "    else:\n",
    "        print(\"i wont do anything\")\n",
    "else:\n",
    "    print(\"i wont be able to buy anything with this price tag\")\n",
    "    if price>500:\n",
    "        print(\"lets try something else\")\n",
    "              \n",
    "    "
   ]
  },
  {
   "cell_type": "code",
   "execution_count": 7,
   "id": "23005a35-a0b5-4f77-8ef0-8a7e270a2f19",
   "metadata": {},
   "outputs": [
    {
     "name": "stdin",
     "output_type": "stream",
     "text": [
      "please enter the marks:  300\n"
     ]
    },
    {
     "name": "stdout",
     "output_type": "stream",
     "text": [
      "no GRE\n",
      "Tofel\n",
      "Try something else\n"
     ]
    }
   ],
   "source": [
    "marks = int(input(\"please enter the marks: \"))\n",
    "if marks<600:\n",
    "    print(\"no GRE\")\n",
    "    if marks<500:\n",
    "        print(\"Tofel\")\n",
    "        if marks <400:\n",
    "            print(\"Try something else\")\n",
    "    else:\n",
    "        print(\"you got tofel\")\n",
    "else:\n",
    "    print(\"you got GRE Congratulation\")"
   ]
  },
  {
   "cell_type": "code",
   "execution_count": 3,
   "id": "fd1d4ca2-7269-4b9b-8c97-a36c58a9e818",
   "metadata": {},
   "outputs": [
    {
     "name": "stdin",
     "output_type": "stream",
     "text": [
      "enter a floating point number 1\n"
     ]
    },
    {
     "name": "stdout",
     "output_type": "stream",
     "text": [
      "enter value is a positive number\n"
     ]
    }
   ],
   "source": [
    "val = float(input(\"enter a floating point number\"))\n",
    "if val>=0:\n",
    "    if val==0:\n",
    "        print(\"enter value is Zero\")\n",
    "    else:\n",
    "        print(\"enter value is a positive number\")\n",
    "else:\n",
    "    print(\"enter is a negative number\")\n",
    "    \n"
   ]
  },
  {
   "cell_type": "code",
   "execution_count": 4,
   "id": "970de049-25c5-4e2a-9448-9b5f7ef6bf5e",
   "metadata": {},
   "outputs": [
    {
     "name": "stdin",
     "output_type": "stream",
     "text": [
      "enter a floating point number 0\n"
     ]
    },
    {
     "name": "stdout",
     "output_type": "stream",
     "text": [
      "enter value is Zero\n"
     ]
    }
   ],
   "source": [
    "val = float(input(\"enter a floating point number\"))\n",
    "if val>=0:\n",
    "    if val==0:\n",
    "        print(\"enter value is Zero\")\n",
    "    else:\n",
    "        print(\"enter value is a positive number\")\n",
    "else:\n",
    "    print(\"enter is a negative number\")"
   ]
  },
  {
   "cell_type": "code",
   "execution_count": 5,
   "id": "53081145-e61a-4b93-9db1-36487d2ee086",
   "metadata": {},
   "outputs": [
    {
     "name": "stdin",
     "output_type": "stream",
     "text": [
      "enter a floating point number -1\n"
     ]
    },
    {
     "name": "stdout",
     "output_type": "stream",
     "text": [
      "enter is a negative number\n"
     ]
    }
   ],
   "source": [
    "val = float(input(\"enter a floating point number\"))\n",
    "if val>=0:\n",
    "    if val==0:\n",
    "        print(\"enter value is Zero\")\n",
    "    else:\n",
    "        print(\"enter value is a positive number\")\n",
    "else:\n",
    "    print(\"enter is a negative number\")"
   ]
  },
  {
   "cell_type": "code",
   "execution_count": 6,
   "id": "9f71f49c-58db-4c57-a8e8-4830e3f5e64d",
   "metadata": {},
   "outputs": [
    {
     "name": "stdout",
     "output_type": "stream",
     "text": [
      "this is sudh\n"
     ]
    }
   ],
   "source": [
    "a=10\n",
    "if a<10 and a==10:\n",
    "    print(\"try to do something\")\n",
    "a= \"sudh\"\n",
    "if a==\"sudh\" or a == \"sudh\":\n",
    "    print(\"this is sudh\")"
   ]
  },
  {
   "cell_type": "code",
   "execution_count": 7,
   "id": "e93eac16-65c3-4345-a64b-1c64c61172ea",
   "metadata": {},
   "outputs": [
    {
     "name": "stdout",
     "output_type": "stream",
     "text": [
      "try to do something\n"
     ]
    }
   ],
   "source": [
    "a=10\n",
    "if a<10 or a==10:\n",
    "    print(\"try to do something\")"
   ]
  },
  {
   "cell_type": "code",
   "execution_count": 8,
   "id": "33cbc7a2-06c6-4065-9b50-8f1291f22f60",
   "metadata": {},
   "outputs": [
    {
     "name": "stdout",
     "output_type": "stream",
     "text": [
      "this is satya\n"
     ]
    }
   ],
   "source": [
    "a= \"satya\"\n",
    "if a==\"satya\" or a == \"Satya\":\n",
    "    print(\"this is satya\")"
   ]
  },
  {
   "cell_type": "code",
   "execution_count": 10,
   "id": "f894c1ae-9a4f-442f-b3cb-db6ca62b9d02",
   "metadata": {},
   "outputs": [],
   "source": [
    "a= \"sudh\"\n",
    "if a==\"Sudh\" and a == \"sudh\":\n",
    "    print(\"this is sudh\")"
   ]
  },
  {
   "cell_type": "code",
   "execution_count": 11,
   "id": "d3bb1b89-7c3e-48e9-b90d-f88be8d04bb7",
   "metadata": {},
   "outputs": [
    {
     "name": "stdout",
     "output_type": "stream",
     "text": [
      "lets do something\n"
     ]
    }
   ],
   "source": [
    "a=10\n",
    "b=11\n",
    "c=12\n",
    "d=13\n",
    "if a==9 or b==11 and c==12 and d==13:\n",
    "    print(\"lets do something\")"
   ]
  },
  {
   "cell_type": "code",
   "execution_count": 12,
   "id": "bca70089-9e0d-4732-8962-de3a7c46c1c6",
   "metadata": {},
   "outputs": [],
   "source": [
    "a=10\n",
    "b=11\n",
    "c=12\n",
    "d=13\n",
    "if a==9 and b==11 and c==12 and d==13:\n",
    "    print(\"lets do something\")"
   ]
  },
  {
   "cell_type": "code",
   "execution_count": 13,
   "id": "287aab84-bb20-4c47-9499-22215aee03f1",
   "metadata": {},
   "outputs": [
    {
     "name": "stdout",
     "output_type": "stream",
     "text": [
      "lets do something\n"
     ]
    }
   ],
   "source": [
    "a=10\n",
    "b=11\n",
    "c=12\n",
    "d=13\n",
    "if a==9 or b==11 or c==12 or d==13:\n",
    "    print(\"lets do something\")"
   ]
  },
  {
   "cell_type": "code",
   "execution_count": 14,
   "id": "2bc52e44-e6d4-44d2-8368-fb92009cb919",
   "metadata": {},
   "outputs": [],
   "source": [
    "d = {\"key1\" : \"value\", \"key2\" : \"Balabhadra\", \"key3\" : \"Amend\"}"
   ]
  },
  {
   "cell_type": "code",
   "execution_count": 17,
   "id": "9ec9e230-f29a-4f95-9939-b2a88fae2f7a",
   "metadata": {},
   "outputs": [
    {
     "name": "stdout",
     "output_type": "stream",
     "text": [
      "all the values are not verified\n"
     ]
    }
   ],
   "source": [
    "if d ['key1']=='value' and d['key2']=='sudh' and ['key3']=='iNeuron':\n",
    "    print(\"all the values are verified\")\n",
    "    print(d.values())\n",
    "else:\n",
    "    print(\"all the values are not verified\")\n"
   ]
  },
  {
   "cell_type": "code",
   "execution_count": 20,
   "id": "07d4c564-254d-419b-83e6-cba2d9347fb1",
   "metadata": {},
   "outputs": [],
   "source": [
    "d = {\"key1\" : \"value\", \"key2\" : \"Balabhadra\", \"key3\" : \"Amend\"}"
   ]
  },
  {
   "cell_type": "code",
   "execution_count": 24,
   "id": "d87f1fe4-a425-4e55-8e3e-9884fe994577",
   "metadata": {},
   "outputs": [
    {
     "name": "stdout",
     "output_type": "stream",
     "text": [
      "all the values are not verified\n"
     ]
    }
   ],
   "source": [
    "if d ['key1']==\"value\" and d['key2']==\"Balabhadra\" and ['key3']==\"Amend\":\n",
    "    print(\"all the values are verified\")\n",
    "    print(d.values())\n",
    "else:\n",
    "    print(\"all the values are not verified\")\n",
    "    "
   ]
  },
  {
   "cell_type": "code",
   "execution_count": 25,
   "id": "85848310-a7ba-47f2-8b23-1a183d5a556e",
   "metadata": {},
   "outputs": [
    {
     "data": {
      "text/plain": [
       "{'key1': 'value', 'key2': 'Balabhadra', 'key3': 'Amend'}"
      ]
     },
     "execution_count": 25,
     "metadata": {},
     "output_type": "execute_result"
    }
   ],
   "source": [
    "d"
   ]
  },
  {
   "cell_type": "code",
   "execution_count": 31,
   "id": "0b2827c4-de2b-4183-bfd8-06315e33f469",
   "metadata": {},
   "outputs": [
    {
     "name": "stdout",
     "output_type": "stream",
     "text": [
      "all the values are not verified\n"
     ]
    }
   ],
   "source": [
    "if d ['key1'] =='value' and d['key2'] =='Balabhadra' and ['key3'] =='Amend':\n",
    "    print(\"all the values are verified\")\n",
    "    print(d.values())\n",
    "    \n",
    "else:\n",
    "    print(\"all the values are not verified\")\n",
    "    "
   ]
  },
  {
   "cell_type": "code",
   "execution_count": 28,
   "id": "1b5dfddf-cbab-404d-8c88-c8561454491f",
   "metadata": {},
   "outputs": [
    {
     "data": {
      "text/plain": [
       "{'key1': 'value', 'key2': 'Balabhadra', 'key3': 'Amend'}"
      ]
     },
     "execution_count": 28,
     "metadata": {},
     "output_type": "execute_result"
    }
   ],
   "source": [
    "d"
   ]
  },
  {
   "cell_type": "code",
   "execution_count": 29,
   "id": "279b3ab6-f7f3-466d-b2bc-6d66c40e5459",
   "metadata": {},
   "outputs": [
    {
     "name": "stdout",
     "output_type": "stream",
     "text": [
      "dict_values(['value', 'Balabhadra', 'Amend'])\n"
     ]
    }
   ],
   "source": [
    "print(d.values())"
   ]
  },
  {
   "cell_type": "code",
   "execution_count": 32,
   "id": "e833a6ce-544a-48e7-a367-09e1bed9b288",
   "metadata": {},
   "outputs": [
    {
     "data": {
      "text/plain": [
       "{'key1': 'value', 'key2': 'Balabhadra', 'key3': 'Amend'}"
      ]
     },
     "execution_count": 32,
     "metadata": {},
     "output_type": "execute_result"
    }
   ],
   "source": [
    "d"
   ]
  },
  {
   "cell_type": "code",
   "execution_count": 36,
   "id": "9ef90eb2-995e-4bf1-8f2c-2866be5b9dba",
   "metadata": {},
   "outputs": [
    {
     "name": "stdout",
     "output_type": "stream",
     "text": [
      "all the values are not verified\n"
     ]
    }
   ],
   "source": [
    "d={'key1': 'value', 'key2': 'Balabhadra', 'key3': 'Amend'}\n",
    "if d ['key1'] =='value' and d['key2'] =='Balabhadra' and ['key3'] =='Amend':\n",
    "    print(\"all the values are verified\")\n",
    "    print(d.values())\n",
    "    \n",
    "else:\n",
    "    print(\"all the values are not verified\")"
   ]
  },
  {
   "cell_type": "markdown",
   "id": "b50292a6-7754-4230-8a7a-463189dc1f29",
   "metadata": {},
   "source": [
    " ## FOR LOOP\n",
    " In Phython, a for loop is used to iterate over a sequence(such as a list, tuple,string,or range) and exucute a block of code for each item in the sequence.\n",
    " the Loop continues untill all items in the sequence have been processed."
   ]
  },
  {
   "cell_type": "code",
   "execution_count": 37,
   "id": "155fb49b-04e0-4362-ba1c-5b76da1f87c4",
   "metadata": {},
   "outputs": [],
   "source": [
    "l = [1,2,3,4,\"padma\" ,\"aimnxt\",45.56]"
   ]
  },
  {
   "cell_type": "code",
   "execution_count": 38,
   "id": "470f629e-38ab-41e6-a865-cef9c1609326",
   "metadata": {},
   "outputs": [
    {
     "name": "stdout",
     "output_type": "stream",
     "text": [
      "1\n",
      "2\n",
      "3\n",
      "4\n",
      "padma\n",
      "aimnxt\n",
      "45.56\n"
     ]
    }
   ],
   "source": [
    "for i in l:\n",
    "    print(i)\n",
    "    \n",
    "    "
   ]
  },
  {
   "cell_type": "code",
   "execution_count": 39,
   "id": "8aff309d-141b-4a15-abb5-f51ea483cd12",
   "metadata": {},
   "outputs": [],
   "source": [
    "for i in l:\n",
    "    pass"
   ]
  },
  {
   "cell_type": "code",
   "execution_count": 2,
   "id": "a8f086e7-5ea3-4954-8c41-648220c32c1f",
   "metadata": {},
   "outputs": [],
   "source": [
    "d = {'key1': 'value', 'key2': 'Balabhadra', 'key3': 'Amend'}"
   ]
  },
  {
   "cell_type": "code",
   "execution_count": 3,
   "id": "7226e062-39bf-49ff-918e-386430e6537a",
   "metadata": {},
   "outputs": [
    {
     "name": "stdout",
     "output_type": "stream",
     "text": [
      "all the values are not verified\n"
     ]
    }
   ],
   "source": [
    "d={'key1': 'value', 'key2': 'Balabhadra', 'key3': 'Amend'}\n",
    "if d ['key1'] =='value' and d['key2'] =='Balabhadra' and ['key3'] =='Amend':\n",
    "    print(\"all the values are verified\")\n",
    "    print(d.values())\n",
    "    \n",
    "else:\n",
    "    print(\"all the values are not verified\")"
   ]
  },
  {
   "cell_type": "code",
   "execution_count": 7,
   "id": "cbbf10a8-b6ef-46a3-9032-3d57b3646107",
   "metadata": {},
   "outputs": [
    {
     "name": "stdout",
     "output_type": "stream",
     "text": [
      "a\n",
      "m\n",
      "e\n",
      "n\n",
      "d\n"
     ]
    }
   ],
   "source": [
    "s = \"amend\"\n",
    "for i in s:\n",
    "    print(i)\n"
   ]
  },
  {
   "cell_type": "code",
   "execution_count": 11,
   "id": "bad9ca45-0861-416b-a083-ee12882242f1",
   "metadata": {},
   "outputs": [
    {
     "name": "stdout",
     "output_type": "stream",
     "text": [
      "amendww\n",
      "amendww\n",
      "amendww\n",
      "amendww\n",
      "amendww\n",
      "amendww\n",
      "amendww\n"
     ]
    }
   ],
   "source": [
    "s = \"amendww\"\n",
    "for w in s:\n",
    "    print(s)\n"
   ]
  },
  {
   "cell_type": "code",
   "execution_count": 15,
   "id": "e013641f-0b67-4aac-abbb-f7a44d64f9fd",
   "metadata": {},
   "outputs": [
    {
     "name": "stdout",
     "output_type": "stream",
     "text": [
      "1\n",
      "2\n",
      "3\n",
      "4\n",
      "padma\n",
      "aimnxt\n",
      "45.56\n",
      "if for loopis going to complete,then it will execute else\n"
     ]
    }
   ],
   "source": [
    "l = [1,2,3,4, \"padma\", \"aimnxt\", 45.56]\n",
    "for i in l:\n",
    "    print(i)\n",
    "else:\n",
    "    print(\"if for loopis going to complete,then it will execute else\")\n"
   ]
  },
  {
   "cell_type": "code",
   "execution_count": 16,
   "id": "2d95220b-d3fd-4377-a4b0-1544774bf601",
   "metadata": {},
   "outputs": [
    {
     "data": {
      "text/plain": [
       "[1, 2, 3, 4, 'padma', 'aimnxt', 45.56]"
      ]
     },
     "execution_count": 16,
     "metadata": {},
     "output_type": "execute_result"
    }
   ],
   "source": [
    "l"
   ]
  },
  {
   "cell_type": "code",
   "execution_count": 18,
   "id": "1d45128b-3c22-409a-854b-06b8e1a8e3d9",
   "metadata": {},
   "outputs": [
    {
     "name": "stdout",
     "output_type": "stream",
     "text": [
      "1\n",
      "2\n",
      "3\n"
     ]
    }
   ],
   "source": [
    "for i in l:\n",
    "    if i ==4:\n",
    "        break\n",
    "    print(i)\n",
    "else:\n",
    "    print(\"this will execute only if,for loop is going to complete itself\")"
   ]
  },
  {
   "cell_type": "code",
   "execution_count": 21,
   "id": "43f7e984-a717-4a7c-a8ec-164ac3ccc23b",
   "metadata": {},
   "outputs": [
    {
     "name": "stdout",
     "output_type": "stream",
     "text": [
      "k\n",
      "e\n"
     ]
    }
   ],
   "source": [
    "s = \"kety\"\n",
    "for i in s:\n",
    "    if i == 't':\n",
    "        break\n",
    "    print(i)\n",
    "else:print(\"Given string is, s\")"
   ]
  },
  {
   "cell_type": "code",
   "execution_count": 22,
   "id": "92878468-95bd-4139-886b-b3c9602b9256",
   "metadata": {},
   "outputs": [
    {
     "name": "stdout",
     "output_type": "stream",
     "text": [
      "d\n",
      "e\n",
      "n\n",
      "i\n",
      "a\n",
      "l\n"
     ]
    }
   ],
   "source": [
    "s = \"denial\"\n",
    "for i in s:\n",
    "    print(i)"
   ]
  },
  {
   "cell_type": "code",
   "execution_count": 23,
   "id": "aa4acdbc-8ea4-4330-8ca9-ddb8496340e7",
   "metadata": {},
   "outputs": [
    {
     "name": "stdout",
     "output_type": "stream",
     "text": [
      " no alarm\n"
     ]
    }
   ],
   "source": [
    "s = \"amha Getahun\"\n",
    "for i in s:\n",
    "    if i == 1324:\n",
    "        break\n",
    "        print(i)\n",
    "else:\n",
    "    print(\" no alarm\")"
   ]
  },
  {
   "cell_type": "code",
   "execution_count": null,
   "id": "82ec871f-890f-4723-8d42-969f34d18df8",
   "metadata": {},
   "outputs": [],
   "source": [
    "l =[0,0,0,0,0,0,0,1234,0,0,0,0,0]\n",
    "for i in l:\n",
    "    if i >0:\n",
    "        print(\" we have active alarm number\", i)\n"
   ]
  },
  {
   "cell_type": "code",
   "execution_count": null,
   "id": "1ad4c43c-eeae-4b57-a15f-b03b0bd655ff",
   "metadata": {},
   "outputs": [],
   "source": []
  },
  {
   "cell_type": "code",
   "execution_count": null,
   "id": "b0bb60b2-452c-4bad-95df-cdd47c8bb95e",
   "metadata": {},
   "outputs": [],
   "source": []
  },
  {
   "cell_type": "code",
   "execution_count": null,
   "id": "4e9e0a82-aaef-4137-a1a9-a3c9c9731a25",
   "metadata": {},
   "outputs": [],
   "source": []
  },
  {
   "cell_type": "code",
   "execution_count": null,
   "id": "b7333d42-62e0-4212-bfb9-9eda18f1e7c6",
   "metadata": {},
   "outputs": [],
   "source": []
  },
  {
   "cell_type": "code",
   "execution_count": null,
   "id": "d4817ee3-aba1-4f32-a50b-067e1882fa9e",
   "metadata": {},
   "outputs": [],
   "source": []
  },
  {
   "cell_type": "code",
   "execution_count": null,
   "id": "a09d1663-6ae4-4e7e-b5b9-d42e98b753fc",
   "metadata": {},
   "outputs": [],
   "source": []
  },
  {
   "cell_type": "code",
   "execution_count": null,
   "id": "e951bda9-902f-4c59-abc1-b8cc830b8ce4",
   "metadata": {},
   "outputs": [],
   "source": []
  },
  {
   "cell_type": "code",
   "execution_count": null,
   "id": "590794fc-159d-4b21-884f-b2433d743526",
   "metadata": {},
   "outputs": [],
   "source": []
  },
  {
   "cell_type": "code",
   "execution_count": null,
   "id": "bab7186f-e31f-423f-a1fc-27b1f95826e2",
   "metadata": {},
   "outputs": [],
   "source": []
  },
  {
   "cell_type": "code",
   "execution_count": null,
   "id": "9e3466e4-4280-4350-b961-9b615eff8cf6",
   "metadata": {},
   "outputs": [],
   "source": []
  },
  {
   "cell_type": "code",
   "execution_count": null,
   "id": "c176558e-66d8-477a-8a6c-4a91fdd0c6c3",
   "metadata": {},
   "outputs": [],
   "source": []
  }
 ],
 "metadata": {
  "kernelspec": {
   "display_name": "Python [conda env:base] *",
   "language": "python",
   "name": "conda-base-py"
  },
  "language_info": {
   "codemirror_mode": {
    "name": "ipython",
    "version": 3
   },
   "file_extension": ".py",
   "mimetype": "text/x-python",
   "name": "python",
   "nbconvert_exporter": "python",
   "pygments_lexer": "ipython3",
   "version": "3.13.5"
  }
 },
 "nbformat": 4,
 "nbformat_minor": 5
}
